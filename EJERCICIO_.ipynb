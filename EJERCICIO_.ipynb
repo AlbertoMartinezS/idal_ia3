{
  "nbformat": 4,
  "nbformat_minor": 0,
  "metadata": {
    "kernelspec": {
      "name": "python3",
      "display_name": "Python 3"
    },
    "language_info": {
      "codemirror_mode": {
        "name": "ipython",
        "version": 3
      },
      "file_extension": ".py",
      "mimetype": "text/x-python",
      "name": "python",
      "nbconvert_exporter": "python",
      "pygments_lexer": "ipython3",
      "version": "3.6.5"
    },
    "colab": {
      "name": "EJERCICIO_.ipynb",
      "provenance": [],
      "collapsed_sections": [],
      "include_colab_link": true
    },
    "accelerator": "GPU"
  },
  "cells": [
    {
      "cell_type": "markdown",
      "metadata": {
        "id": "view-in-github",
        "colab_type": "text"
      },
      "source": [
        "<a href=\"https://colab.research.google.com/github/AlbertoMartinezS/idal_ia3/blob/main/EJERCICIO_.ipynb\" target=\"_parent\"><img src=\"https://colab.research.google.com/assets/colab-badge.svg\" alt=\"Open In Colab\"/></a>"
      ]
    },
    {
      "cell_type": "markdown",
      "metadata": {
        "id": "lhPjB6w2qhy5"
      },
      "source": [
        "**El objetivo del ejercicio es:**\n",
        "\n",
        "- Optimizar arquitectura de la red\n",
        "\n",
        "- Partir training en training + validación usando como ejemplo lo que se hacía en el notebook de las caras (carpeta 03-caras)\n",
        "\n",
        "- Sacar heatmaps"
      ]
    },
    {
      "cell_type": "code",
      "metadata": {
        "id": "YrIBQZFhdEf_"
      },
      "source": [
        "COLAB = True"
      ],
      "execution_count": 11,
      "outputs": []
    },
    {
      "cell_type": "code",
      "metadata": {
        "id": "21reopQOOK2g",
        "colab": {
          "base_uri": "https://localhost:8080/"
        },
        "outputId": "a34476c1-1f89-4023-cb15-67fcc03f3dd3"
      },
      "source": [
        "if COLAB:\n",
        "    %tensorflow_version 1.x\n",
        "    !pip install h5py==2.10.0"
      ],
      "execution_count": 13,
      "outputs": [
        {
          "output_type": "stream",
          "name": "stdout",
          "text": [
            "TensorFlow is already loaded. Please restart the runtime to change versions.\n",
            "Requirement already satisfied: h5py==2.10.0 in /usr/local/lib/python3.7/dist-packages (2.10.0)\n",
            "Requirement already satisfied: numpy>=1.7 in /usr/local/lib/python3.7/dist-packages (from h5py==2.10.0) (1.19.5)\n",
            "Requirement already satisfied: six in /usr/local/lib/python3.7/dist-packages (from h5py==2.10.0) (1.15.0)\n"
          ]
        }
      ]
    },
    {
      "cell_type": "markdown",
      "metadata": {
        "id": "9J7jsb63yZMO"
      },
      "source": [
        "Si se desea ejecutar en local:\n",
        "\n",
        "- Descargar el dataset de training de: https://drive.google.com/file/d/1ChJn1h340ECm1uezE-oLr6TwCbeGglvQ\n",
        "\n",
        "- Y el de test de: https://drive.google.com/file/d/1STokCqelhLeiwlTa2YX-TM9SNCx74-an\n",
        "\n",
        "- Poner variable COLAB a False"
      ]
    },
    {
      "cell_type": "code",
      "metadata": {
        "id": "W68hFjybWa3P"
      },
      "source": [
        "from keras.preprocessing.image import ImageDataGenerator, load_img, img_to_array\n",
        "from keras.models import Sequential, load_model, Model\n",
        "from keras.layers import Conv2D, MaxPooling2D\n",
        "from keras.layers import Activation, Dropout, Flatten, Dense, GlobalAveragePooling2D\n",
        "from keras import backend as K\n",
        "from keras.callbacks import ModelCheckpoint\n",
        "from keras import regularizers\n",
        "from glob import glob\n",
        "\n",
        "import matplotlib.pyplot as plt\n",
        "import numpy as np\n",
        "\n",
        "from IPython.display import SVG, display, clear_output\n",
        "from keras.utils.vis_utils import model_to_dot\n",
        "\n",
        "from sklearn.metrics import classification_report, confusion_matrix, roc_curve, auc\n",
        "\n",
        "%matplotlib inline"
      ],
      "execution_count": 3,
      "outputs": []
    },
    {
      "cell_type": "code",
      "metadata": {
        "id": "9GXDzz3bTLMV",
        "colab": {
          "base_uri": "https://localhost:8080/"
        },
        "outputId": "140cc813-90c6-43b5-c2e7-81632f5c38f3"
      },
      "source": [
        "!ls -la"
      ],
      "execution_count": 4,
      "outputs": [
        {
          "output_type": "stream",
          "name": "stdout",
          "text": [
            "total 16\n",
            "drwxr-xr-x 1 root root 4096 Dec  3 14:33 .\n",
            "drwxr-xr-x 1 root root 4096 Dec 11 10:00 ..\n",
            "drwxr-xr-x 4 root root 4096 Dec  3 14:33 .config\n",
            "drwxr-xr-x 1 root root 4096 Dec  3 14:33 sample_data\n"
          ]
        }
      ]
    },
    {
      "cell_type": "code",
      "metadata": {
        "id": "f-8gOCujdP37",
        "colab": {
          "base_uri": "https://localhost:8080/"
        },
        "outputId": "897f092e-739a-4349-801e-eef6340833d5"
      },
      "source": [
        "if COLAB:\n",
        "    from google_drive_downloader import GoogleDriveDownloader as gdd\n",
        "    gdd.download_file_from_google_drive(file_id='1ChJn1h340ECm1uezE-oLr6TwCbeGglvQ',\n",
        "                                        dest_path='./seg_train.zip', unzip=True)\n",
        "    gdd.download_file_from_google_drive(file_id='1STokCqelhLeiwlTa2YX-TM9SNCx74-an',\n",
        "                                        dest_path='./seg_test.zip', unzip=True)\n",
        "    "
      ],
      "execution_count": 12,
      "outputs": [
        {
          "output_type": "stream",
          "name": "stdout",
          "text": [
            "Downloading 1ChJn1h340ECm1uezE-oLr6TwCbeGglvQ into ./seg_train.zip... Done.\n",
            "Unzipping...Done.\n",
            "Downloading 1STokCqelhLeiwlTa2YX-TM9SNCx74-an into ./seg_test.zip... Done.\n",
            "Unzipping...Done.\n"
          ]
        }
      ]
    },
    {
      "cell_type": "code",
      "metadata": {
        "id": "2Tb3C1EgWz1r",
        "colab": {
          "base_uri": "https://localhost:8080/"
        },
        "outputId": "779375b4-f3c7-43ce-d3bc-88c7f1d9833c"
      },
      "source": [
        "!ls -la"
      ],
      "execution_count": 94,
      "outputs": [
        {
          "output_type": "stream",
          "name": "stdout",
          "text": [
            "total 255244\n",
            "drwxr-xr-x 1 root root      4096 Dec 11 10:19 .\n",
            "drwxr-xr-x 1 root root      4096 Dec 11 10:00 ..\n",
            "-rw-r--r-- 1 root root   1608384 Dec 11 10:33 best_model.h5\n",
            "drwxr-xr-x 4 root root      4096 Dec  3 14:33 .config\n",
            "drwxr-xr-x 4 root root      4096 Dec 11 10:05 __MACOSX\n",
            "drwxr-xr-x 1 root root      4096 Dec  3 14:33 sample_data\n",
            "drwxr-xr-x 8 root root      4096 Dec 11 10:05 seg_test\n",
            "-rw-r--r-- 1 root root  45638665 Dec 11 10:05 seg_test.zip\n",
            "drwxr-xr-x 8 root root      4096 Dec 11 10:05 seg_train\n",
            "-rw-r--r-- 1 root root 214084517 Dec 11 10:05 seg_train.zip\n"
          ]
        }
      ]
    },
    {
      "cell_type": "code",
      "metadata": {
        "id": "rJlZPaYmW22d",
        "colab": {
          "base_uri": "https://localhost:8080/"
        },
        "outputId": "dc8edf5d-1d0d-4e40-c48e-0421c3921ab7"
      },
      "source": [
        "!ls seg_train"
      ],
      "execution_count": 95,
      "outputs": [
        {
          "output_type": "stream",
          "name": "stdout",
          "text": [
            "buildings  forest  glacier  mountain  sea  street\n"
          ]
        }
      ]
    },
    {
      "cell_type": "code",
      "metadata": {
        "id": "51wlCBp-zyOQ",
        "colab": {
          "base_uri": "https://localhost:8080/"
        },
        "outputId": "c2f5af97-7484-4c3e-ad0b-fab873bbc46e"
      },
      "source": [
        "!ls seg_test"
      ],
      "execution_count": 96,
      "outputs": [
        {
          "output_type": "stream",
          "name": "stdout",
          "text": [
            "buildings  forest  glacier  mountain  sea  street\n"
          ]
        }
      ]
    },
    {
      "cell_type": "code",
      "metadata": {
        "id": "walL9rvWW6Lf",
        "colab": {
          "base_uri": "https://localhost:8080/"
        },
        "outputId": "d039c245-84e7-4cea-c921-f13e731f8681"
      },
      "source": [
        "!ls seg_train/buildings"
      ],
      "execution_count": 97,
      "outputs": [
        {
          "output_type": "stream",
          "name": "stdout",
          "text": [
            "0.jpg\t   12578.jpg  14916.jpg  17468.jpg  20017.jpg  4600.jpg  7382.jpg\n",
            "10006.jpg  12590.jpg  14918.jpg  17479.jpg  20027.jpg  4620.jpg  7383.jpg\n",
            "10014.jpg  125.jpg    14947.jpg  17480.jpg  2002.jpg   4621.jpg  739.jpg\n",
            "10018.jpg  12602.jpg  14952.jpg  17491.jpg  20048.jpg  4623.jpg  7418.jpg\n",
            "1001.jpg   12615.jpg  14958.jpg  17495.jpg  20054.jpg  4630.jpg  742.jpg\n",
            "10029.jpg  12617.jpg  14968.jpg  17503.jpg  2038.jpg   4631.jpg  7439.jpg\n",
            "10032.jpg  12629.jpg  14984.jpg  17516.jpg  2041.jpg   4634.jpg  7443.jpg\n",
            "10056.jpg  12632.jpg  14991.jpg  1751.jpg   2043.jpg   463.jpg\t 7455.jpg\n",
            "1009.jpg   12636.jpg  1501.jpg\t 17520.jpg  2059.jpg   4667.jpg  7463.jpg\n",
            "10113.jpg  1263.jpg   15026.jpg  17537.jpg  2069.jpg   4686.jpg  7471.jpg\n",
            "10126.jpg  12649.jpg  15030.jpg  17539.jpg  2076.jpg   4715.jpg  7478.jpg\n",
            "1012.jpg   12659.jpg  1503.jpg\t 1753.jpg   2083.jpg   4748.jpg  747.jpg\n",
            "10144.jpg  12668.jpg  15042.jpg  17541.jpg  2088.jpg   4770.jpg  7491.jpg\n",
            "10151.jpg  12669.jpg  15045.jpg  17545.jpg  2099.jpg   4774.jpg  7493.jpg\n",
            "10161.jpg  12680.jpg  15048.jpg  17551.jpg  2104.jpg   4795.jpg  7496.jpg\n",
            "10165.jpg  12684.jpg  15052.jpg  17552.jpg  2108.jpg   4796.jpg  7498.jpg\n",
            "10176.jpg  12685.jpg  15061.jpg  17560.jpg  2114.jpg   4797.jpg  749.jpg\n",
            "10184.jpg  12692.jpg  15064.jpg  17563.jpg  2136.jpg   47.jpg\t 7501.jpg\n",
            "10185.jpg  12703.jpg  15071.jpg  17574.jpg  2144.jpg   4806.jpg  7509.jpg\n",
            "10191.jpg  12716.jpg  15078.jpg  17575.jpg  2158.jpg   4812.jpg  7518.jpg\n",
            "10196.jpg  12719.jpg  15091.jpg  17581.jpg  2170.jpg   4818.jpg  751.jpg\n",
            "10198.jpg  12720.jpg  15098.jpg  17590.jpg  2171.jpg   4821.jpg  7520.jpg\n",
            "10205.jpg  12727.jpg  15109.jpg  17594.jpg  2176.jpg   4832.jpg  752.jpg\n",
            "10210.jpg  12729.jpg  15140.jpg  17602.jpg  2179.jpg   4860.jpg  7530.jpg\n",
            "10228.jpg  12733.jpg  15141.jpg  17605.jpg  2182.jpg   4878.jpg  7531.jpg\n",
            "10231.jpg  12734.jpg  15146.jpg  17609.jpg  2185.jpg   488.jpg\t 7541.jpg\n",
            "10251.jpg  12736.jpg  15147.jpg  1760.jpg   218.jpg    4895.jpg  7542.jpg\n",
            "10252.jpg  1273.jpg   15176.jpg  17636.jpg  2193.jpg   4906.jpg  7544.jpg\n",
            "10257.jpg  12741.jpg  15216.jpg  1763.jpg   2202.jpg   4916.jpg  7547.jpg\n",
            "10266.jpg  12744.jpg  15218.jpg  17662.jpg  2203.jpg   4932.jpg  7553.jpg\n",
            "10278.jpg  12755.jpg  15223.jpg  17673.jpg  2204.jpg   4959.jpg  7562.jpg\n",
            "1028.jpg   12758.jpg  15227.jpg  17687.jpg  2209.jpg   495.jpg\t 7563.jpg\n",
            "10295.jpg  12761.jpg  15236.jpg  17718.jpg  2236.jpg   4961.jpg  7570.jpg\n",
            "10303.jpg  12766.jpg  15238.jpg  17719.jpg  2238.jpg   4979.jpg  7574.jpg\n",
            "10306.jpg  12770.jpg  15242.jpg  17731.jpg  2252.jpg   4988.jpg  7584.jpg\n",
            "10310.jpg  12782.jpg  15261.jpg  17750.jpg  2263.jpg   4.jpg\t 7593.jpg\n",
            "10312.jpg  12789.jpg  15288.jpg  17751.jpg  2264.jpg   5025.jpg  7600.jpg\n",
            "10316.jpg  12802.jpg  15291.jpg  17764.jpg  2273.jpg   5037.jpg  7610.jpg\n",
            "10318.jpg  12817.jpg  15293.jpg  17771.jpg  2285.jpg   5048.jpg  7630.jpg\n",
            "10328.jpg  12818.jpg  15304.jpg  17793.jpg  2300.jpg   5053.jpg  7634.jpg\n",
            "10350.jpg  1281.jpg   15320.jpg  17805.jpg  230.jpg    5059.jpg  7636.jpg\n",
            "10357.jpg  12827.jpg  15322.jpg  17806.jpg  2319.jpg   505.jpg\t 7637.jpg\n",
            "10362.jpg  12863.jpg  15324.jpg  17821.jpg  2332.jpg   5069.jpg  7638.jpg\n",
            "10367.jpg  12864.jpg  15331.jpg  17825.jpg  2342.jpg   506.jpg\t 765.jpg\n",
            "10374.jpg  12874.jpg  15334.jpg  17830.jpg  2356.jpg   5079.jpg  7666.jpg\n",
            "10383.jpg  12887.jpg  15344.jpg  17835.jpg  235.jpg    508.jpg\t 7667.jpg\n",
            "10402.jpg  12913.jpg  15345.jpg  17853.jpg  2362.jpg   5092.jpg  7701.jpg\n",
            "1041.jpg   1291.jpg   15346.jpg  17868.jpg  2369.jpg   5111.jpg  7703.jpg\n",
            "10421.jpg  12925.jpg  15361.jpg  1786.jpg   2385.jpg   5114.jpg  7710.jpg\n",
            "10444.jpg  12930.jpg  15374.jpg  17873.jpg  2406.jpg   5152.jpg  772.jpg\n",
            "10452.jpg  12934.jpg  15397.jpg  17875.jpg  2414.jpg   5160.jpg  7730.jpg\n",
            "1045.jpg   12938.jpg  15398.jpg  1787.jpg   2418.jpg   5170.jpg  7742.jpg\n",
            "10466.jpg  12939.jpg  1539.jpg\t 17891.jpg  2426.jpg   5186.jpg  7754.jpg\n",
            "10480.jpg  12942.jpg  15404.jpg  17896.jpg  2430.jpg   5188.jpg  7755.jpg\n",
            "10485.jpg  12943.jpg  15405.jpg  17898.jpg  2463.jpg   5190.jpg  7758.jpg\n",
            "10489.jpg  12963.jpg  15409.jpg  17903.jpg  2469.jpg   5193.jpg  775.jpg\n",
            "10495.jpg  12973.jpg  15428.jpg  17906.jpg  246.jpg    5206.jpg  7798.jpg\n",
            "10499.jpg  12982.jpg  15429.jpg  17912.jpg  2478.jpg   5269.jpg  7807.jpg\n",
            "10500.jpg  12990.jpg  1542.jpg\t 17932.jpg  2495.jpg   526.jpg\t 7822.jpg\n",
            "10502.jpg  12994.jpg  15439.jpg  17951.jpg  2558.jpg   5277.jpg  7846.jpg\n",
            "10511.jpg  12996.jpg  15451.jpg  17953.jpg  2568.jpg   5285.jpg  7856.jpg\n",
            "10520.jpg  12999.jpg  1546.jpg\t 17956.jpg  256.jpg    5291.jpg  7859.jpg\n",
            "10528.jpg  13008.jpg  15487.jpg  17969.jpg  2575.jpg   5292.jpg  7860.jpg\n",
            "10553.jpg  13010.jpg  15491.jpg  17973.jpg  2586.jpg   5302.jpg  7877.jpg\n",
            "10559.jpg  13023.jpg  154.jpg\t 17977.jpg  2587.jpg   5313.jpg  7890.jpg\n",
            "1055.jpg   13024.jpg  1550.jpg\t 17981.jpg  2602.jpg   5324.jpg  7891.jpg\n",
            "10570.jpg  13027.jpg  15514.jpg  17983.jpg  2607.jpg   5327.jpg  789.jpg\n",
            "10576.jpg  1303.jpg   15515.jpg  17989.jpg  2612.jpg   5331.jpg  7919.jpg\n",
            "10582.jpg  13050.jpg  15518.jpg  18017.jpg  2633.jpg   5337.jpg  7924.jpg\n",
            "1058.jpg   13079.jpg  15523.jpg  18025.jpg  2636.jpg   5340.jpg  7926.jpg\n",
            "10598.jpg  13082.jpg  15528.jpg  18026.jpg  2639.jpg   5343.jpg  7930.jpg\n",
            "10608.jpg  13111.jpg  15538.jpg  18029.jpg  263.jpg    5358.jpg  7937.jpg\n",
            "10620.jpg  1311.jpg   15542.jpg  18034.jpg  2643.jpg   5384.jpg  7939.jpg\n",
            "10626.jpg  13124.jpg  15545.jpg  18037.jpg  2648.jpg   53.jpg\t 7959.jpg\n",
            "10630.jpg  13131.jpg  15573.jpg  18045.jpg  2653.jpg   5424.jpg  7994.jpg\n",
            "10641.jpg  13135.jpg  15577.jpg  18050.jpg  265.jpg    5440.jpg  7997.jpg\n",
            "10646.jpg  13143.jpg  15587.jpg  18052.jpg  2662.jpg   5444.jpg  7998.jpg\n",
            "1064.jpg   13170.jpg  15596.jpg  18056.jpg  266.jpg    5451.jpg  8001.jpg\n",
            "10653.jpg  13171.jpg  1560.jpg\t 18072.jpg  2670.jpg   5452.jpg  8018.jpg\n",
            "10656.jpg  1317.jpg   15624.jpg  18079.jpg  2678.jpg   5463.jpg  801.jpg\n",
            "10672.jpg  13183.jpg  15626.jpg  18084.jpg  2688.jpg   5477.jpg  8042.jpg\n",
            "10695.jpg  13184.jpg  1562.jpg\t 18087.jpg  2691.jpg   5504.jpg  8054.jpg\n",
            "10699.jpg  13188.jpg  1563.jpg\t 18099.jpg  2697.jpg   5533.jpg  8065.jpg\n",
            "10717.jpg  13191.jpg  15641.jpg  18105.jpg  2705.jpg   5535.jpg  8081.jpg\n",
            "10720.jpg  13213.jpg  15653.jpg  18115.jpg  2710.jpg   5543.jpg  808.jpg\n",
            "10730.jpg  13216.jpg  15673.jpg  18133.jpg  2713.jpg   5546.jpg  8093.jpg\n",
            "10744.jpg  13220.jpg  15674.jpg  18140.jpg  2717.jpg   5557.jpg  809.jpg\n",
            "10754.jpg  13222.jpg  15675.jpg  18151.jpg  2733.jpg   5563.jpg  8100.jpg\n",
            "10756.jpg  13234.jpg  15690.jpg  18156.jpg  2735.jpg   5568.jpg  8107.jpg\n",
            "10790.jpg  13236.jpg  15693.jpg  18157.jpg  2738.jpg   5579.jpg  810.jpg\n",
            "10792.jpg  13238.jpg  15699.jpg  18166.jpg  2741.jpg   5583.jpg  8114.jpg\n",
            "10798.jpg  13247.jpg  1569.jpg\t 18167.jpg  2743.jpg   55.jpg\t 8121.jpg\n",
            "10805.jpg  13253.jpg  15701.jpg  18182.jpg  2747.jpg   5604.jpg  8129.jpg\n",
            "10809.jpg  13258.jpg  15714.jpg  18195.jpg  2749.jpg   5614.jpg  8131.jpg\n",
            "10812.jpg  1325.jpg   15729.jpg  18201.jpg  2770.jpg   5617.jpg  8132.jpg\n",
            "10828.jpg  13276.jpg  15730.jpg  18203.jpg  2775.jpg   5628.jpg  8139.jpg\n",
            "10831.jpg  13284.jpg  15734.jpg  18234.jpg  2790.jpg   5630.jpg  8151.jpg\n",
            "10832.jpg  13287.jpg  15742.jpg  18235.jpg  2796.jpg   5633.jpg  8159.jpg\n",
            "10842.jpg  13308.jpg  15743.jpg  18237.jpg  2802.jpg   5638.jpg  8171.jpg\n",
            "10849.jpg  13315.jpg  15749.jpg  18240.jpg  2808.jpg   5650.jpg  8179.jpg\n",
            "10865.jpg  1332.jpg   15768.jpg  18252.jpg  2809.jpg   5652.jpg  8202.jpg\n",
            "10872.jpg  13338.jpg  15784.jpg  18258.jpg  2815.jpg   5656.jpg  8228.jpg\n",
            "10878.jpg  1333.jpg   15787.jpg  18260.jpg  2817.jpg   5658.jpg  8238.jpg\n",
            "10886.jpg  13352.jpg  15791.jpg  18272.jpg  2823.jpg   5661.jpg  8241.jpg\n",
            "10892.jpg  13357.jpg  15792.jpg  18279.jpg  2827.jpg   5695.jpg  8243.jpg\n",
            "10899.jpg  13364.jpg  15794.jpg  18283.jpg  2847.jpg   5696.jpg  8261.jpg\n",
            "1090.jpg   13371.jpg  15796.jpg  18289.jpg  2850.jpg   5708.jpg  8271.jpg\n",
            "10911.jpg  13377.jpg  157.jpg\t 18291.jpg  286.jpg    5712.jpg  8292.jpg\n",
            "10921.jpg  13383.jpg  1580.jpg\t 18312.jpg  2871.jpg   5735.jpg  8302.jpg\n",
            "10924.jpg  13395.jpg  15815.jpg  18321.jpg  2874.jpg   5741.jpg  8312.jpg\n",
            "10936.jpg  13400.jpg  15822.jpg  18324.jpg  2880.jpg   5743.jpg  8318.jpg\n",
            "1093.jpg   13404.jpg  15824.jpg  18331.jpg  2882.jpg   5761.jpg  8324.jpg\n",
            "10963.jpg  13409.jpg  15827.jpg  18335.jpg  2887.jpg   5770.jpg  8342.jpg\n",
            "10978.jpg  13432.jpg  15845.jpg  18342.jpg  2908.jpg   5788.jpg  8357.jpg\n",
            "10997.jpg  1343.jpg   15861.jpg  18344.jpg  2922.jpg   578.jpg\t 8358.jpg\n",
            "11003.jpg  13452.jpg  15864.jpg  18364.jpg  2928.jpg   5791.jpg  835.jpg\n",
            "11011.jpg  13453.jpg  15871.jpg  18375.jpg  292.jpg    5798.jpg  8360.jpg\n",
            "11024.jpg  13463.jpg  15877.jpg  18389.jpg  2936.jpg   5805.jpg  8363.jpg\n",
            "11037.jpg  13470.jpg  1587.jpg\t 18397.jpg  2948.jpg   5817.jpg  8366.jpg\n",
            "11042.jpg  13472.jpg  158.jpg\t 18412.jpg  2951.jpg   5820.jpg  8367.jpg\n",
            "11045.jpg  13474.jpg  15905.jpg  18415.jpg  2954.jpg   5831.jpg  8376.jpg\n",
            "1104.jpg   13477.jpg  15906.jpg  18419.jpg  2960.jpg   5852.jpg  8380.jpg\n",
            "11054.jpg  13478.jpg  15920.jpg  18435.jpg  2961.jpg   5866.jpg  8382.jpg\n",
            "11055.jpg  13480.jpg  15938.jpg  18438.jpg  2985.jpg   586.jpg\t 8385.jpg\n",
            "11077.jpg  13486.jpg  1593.jpg\t 18446.jpg  2997.jpg   5883.jpg  8390.jpg\n",
            "1107.jpg   13490.jpg  15944.jpg  18449.jpg  2999.jpg   5918.jpg  8397.jpg\n",
            "11084.jpg  13511.jpg  15945.jpg  18456.jpg  3000.jpg   5919.jpg  8399.jpg\n",
            "11098.jpg  13526.jpg  15955.jpg  18467.jpg  3017.jpg   5927.jpg  8418.jpg\n",
            "11108.jpg  13533.jpg  15956.jpg  1846.jpg   3020.jpg   5947.jpg  8421.jpg\n",
            "11117.jpg  13534.jpg  15959.jpg  18496.jpg  3028.jpg   5952.jpg  8430.jpg\n",
            "1112.jpg   13537.jpg  15962.jpg  1850.jpg   3035.jpg   5955.jpg  8431.jpg\n",
            "11131.jpg  13538.jpg  15966.jpg  18538.jpg  304.jpg    5958.jpg  8435.jpg\n",
            "11157.jpg  13540.jpg  15973.jpg  18542.jpg  3051.jpg   595.jpg\t 8444.jpg\n",
            "11173.jpg  13568.jpg  15985.jpg  18546.jpg  3056.jpg   5965.jpg  8458.jpg\n",
            "11181.jpg  13579.jpg  15988.jpg  18548.jpg  3064.jpg   5971.jpg  8474.jpg\n",
            "11187.jpg  13583.jpg  15992.jpg  18550.jpg  3067.jpg   5998.jpg  8475.jpg\n",
            "11197.jpg  13590.jpg  16006.jpg  18560.jpg  3082.jpg   6005.jpg  847.jpg\n",
            "11203.jpg  13599.jpg  16020.jpg  18564.jpg  3086.jpg   6014.jpg  8481.jpg\n",
            "11209.jpg  13603.jpg  16057.jpg  18565.jpg  3091.jpg   6024.jpg  8513.jpg\n",
            "11226.jpg  13609.jpg  16059.jpg  18580.jpg  3095.jpg   6028.jpg  8518.jpg\n",
            "11235.jpg  13621.jpg  16064.jpg  18592.jpg  309.jpg    6033.jpg  8525.jpg\n",
            "11244.jpg  13622.jpg  16078.jpg  18593.jpg  3113.jpg   6037.jpg  8538.jpg\n",
            "11249.jpg  13624.jpg  16079.jpg  1859.jpg   3126.jpg   6045.jpg  8542.jpg\n",
            "11259.jpg  13629.jpg  16095.jpg  18602.jpg  3136.jpg   6046.jpg  8553.jpg\n",
            "11274.jpg  1363.jpg   16100.jpg  18639.jpg  3142.jpg   6054.jpg  8556.jpg\n",
            "11278.jpg  13640.jpg  1610.jpg\t 18655.jpg  3145.jpg   6073.jpg  8577.jpg\n",
            "11290.jpg  13649.jpg  16115.jpg  18668.jpg  3151.jpg   6075.jpg  8592.jpg\n",
            "112.jpg    1366.jpg   1611.jpg\t 18672.jpg  315.jpg    6080.jpg  8596.jpg\n",
            "11302.jpg  13674.jpg  16123.jpg  18676.jpg  3170.jpg   6105.jpg  8601.jpg\n",
            "11305.jpg  13676.jpg  16137.jpg  1867.jpg   318.jpg    6117.jpg  8602.jpg\n",
            "11306.jpg  13681.jpg  16141.jpg  18694.jpg  3193.jpg   6119.jpg  8604.jpg\n",
            "11307.jpg  13689.jpg  16159.jpg  18720.jpg  3207.jpg   6123.jpg  8619.jpg\n",
            "11309.jpg  13697.jpg  16160.jpg  18725.jpg  3209.jpg   612.jpg\t 8622.jpg\n",
            "11315.jpg  13702.jpg  16166.jpg  1872.jpg   3216.jpg   6143.jpg  8623.jpg\n",
            "11316.jpg  13735.jpg  16171.jpg  18743.jpg  321.jpg    6175.jpg  8630.jpg\n",
            "11317.jpg  13741.jpg  16183.jpg  18752.jpg  3245.jpg   617.jpg\t 8639.jpg\n",
            "11323.jpg  13745.jpg  16199.jpg  18755.jpg  3251.jpg   6187.jpg  8647.jpg\n",
            "11334.jpg  13746.jpg  16208.jpg  18756.jpg  3253.jpg   618.jpg\t 864.jpg\n",
            "11338.jpg  13753.jpg  16221.jpg  18758.jpg  3255.jpg   6190.jpg  8658.jpg\n",
            "11345.jpg  13770.jpg  1622.jpg\t 18767.jpg  3257.jpg   6201.jpg  8659.jpg\n",
            "11349.jpg  13777.jpg  16234.jpg  18769.jpg  3263.jpg   6205.jpg  8682.jpg\n",
            "11363.jpg  13779.jpg  1623.jpg\t 18771.jpg  3297.jpg   6212.jpg  8683.jpg\n",
            "11366.jpg  13790.jpg  16243.jpg  18772.jpg  3310.jpg   6213.jpg  869.jpg\n",
            "11371.jpg  13796.jpg  16272.jpg  18777.jpg  3316.jpg   6231.jpg  8701.jpg\n",
            "11374.jpg  137.jpg    16274.jpg  1877.jpg   3323.jpg   6232.jpg  8705.jpg\n",
            "11378.jpg  13806.jpg  16279.jpg  18791.jpg  3328.jpg   6233.jpg  8713.jpg\n",
            "11410.jpg  13812.jpg  16280.jpg  18793.jpg  3336.jpg   6235.jpg  8723.jpg\n",
            "11418.jpg  13813.jpg  16289.jpg  18794.jpg  3339.jpg   6238.jpg  8746.jpg\n",
            "11425.jpg  13815.jpg  1629.jpg\t 18797.jpg  3359.jpg   6259.jpg  8748.jpg\n",
            "11428.jpg  13822.jpg  1630.jpg\t 1879.jpg   3364.jpg   6265.jpg  8752.jpg\n",
            "11458.jpg  13823.jpg  16314.jpg  18814.jpg  3387.jpg   6266.jpg  8777.jpg\n",
            "11471.jpg  13827.jpg  16315.jpg  18815.jpg  3391.jpg   6271.jpg  8786.jpg\n",
            "11477.jpg  13835.jpg  16324.jpg  18824.jpg  3395.jpg   6280.jpg  8788.jpg\n",
            "11483.jpg  13843.jpg  16326.jpg  18846.jpg  3397.jpg   6281.jpg  878.jpg\n",
            "11494.jpg  13844.jpg  16339.jpg  18854.jpg  3420.jpg   6285.jpg  8792.jpg\n",
            "11499.jpg  13846.jpg  16346.jpg  18875.jpg  343.jpg    6290.jpg  8797.jpg\n",
            "11502.jpg  13848.jpg  16349.jpg  18881.jpg  3449.jpg   6305.jpg  8801.jpg\n",
            "11523.jpg  13860.jpg  16362.jpg  18883.jpg  3457.jpg   6313.jpg  8810.jpg\n",
            "11530.jpg  13863.jpg  1636.jpg\t 18885.jpg  3477.jpg   6315.jpg  8813.jpg\n",
            "11560.jpg  13882.jpg  16377.jpg  18887.jpg  3481.jpg   6326.jpg  8821.jpg\n",
            "11568.jpg  13888.jpg  16395.jpg  18893.jpg  3488.jpg   6328.jpg  8822.jpg\n",
            "11569.jpg  13901.jpg  16413.jpg  188.jpg    3499.jpg   6331.jpg  8824.jpg\n",
            "11570.jpg  13905.jpg  16423.jpg  18902.jpg  3506.jpg   6339.jpg  8830.jpg\n",
            "11594.jpg  13916.jpg  16431.jpg  18917.jpg  3523.jpg   6340.jpg  8838.jpg\n",
            "11595.jpg  1391.jpg   16432.jpg  18919.jpg  3524.jpg   6343.jpg  8843.jpg\n",
            "11599.jpg  13932.jpg  1643.jpg\t 1891.jpg   3528.jpg   6346.jpg  8859.jpg\n",
            "11601.jpg  13943.jpg  16452.jpg  18922.jpg  3540.jpg   6355.jpg  8878.jpg\n",
            "11605.jpg  13946.jpg  16455.jpg  18934.jpg  3560.jpg   635.jpg\t 8891.jpg\n",
            "11613.jpg  13951.jpg  16456.jpg  18938.jpg  3567.jpg   6360.jpg  8896.jpg\n",
            "1161.jpg   1395.jpg   16457.jpg  18951.jpg  3572.jpg   6379.jpg  8897.jpg\n",
            "11620.jpg  13961.jpg  16463.jpg  18959.jpg  3579.jpg   6383.jpg  8903.jpg\n",
            "11621.jpg  13969.jpg  16466.jpg  18962.jpg  3596.jpg   6386.jpg  8912.jpg\n",
            "11622.jpg  13978.jpg  16478.jpg  18971.jpg  3611.jpg   6394.jpg  8914.jpg\n",
            "11627.jpg  13982.jpg  1647.jpg\t 18991.jpg  3638.jpg   6414.jpg  8915.jpg\n",
            "11628.jpg  13983.jpg  16483.jpg  18992.jpg  3645.jpg   6417.jpg  8921.jpg\n",
            "11635.jpg  139.jpg    16488.jpg  18993.jpg  3664.jpg   6420.jpg  8923.jpg\n",
            "11642.jpg  14001.jpg  16500.jpg  19003.jpg  3667.jpg   6429.jpg  8933.jpg\n",
            "11658.jpg  14004.jpg  16507.jpg  1900.jpg   3669.jpg   6436.jpg  8948.jpg\n",
            "11670.jpg  14014.jpg  16538.jpg  19016.jpg  3670.jpg   6473.jpg  8964.jpg\n",
            "11696.jpg  14016.jpg  16543.jpg  1901.jpg   367.jpg    6479.jpg  8966.jpg\n",
            "11700.jpg  14022.jpg  16547.jpg  19023.jpg  3699.jpg   6503.jpg  8976.jpg\n",
            "11718.jpg  14035.jpg  16550.jpg  19032.jpg  3722.jpg   6505.jpg  897.jpg\n",
            "11731.jpg  1403.jpg   16559.jpg  19036.jpg  3743.jpg   6509.jpg  8985.jpg\n",
            "11753.jpg  1406.jpg   16562.jpg  19056.jpg  3745.jpg   6524.jpg  8998.jpg\n",
            "11780.jpg  14081.jpg  16564.jpg  19057.jpg  3768.jpg   6525.jpg  9002.jpg\n",
            "11788.jpg  14092.jpg  16567.jpg  19077.jpg  3775.jpg   6526.jpg  9007.jpg\n",
            "11795.jpg  14094.jpg  16569.jpg  19078.jpg  3792.jpg   6535.jpg  9018.jpg\n",
            "11796.jpg  14114.jpg  1656.jpg\t 19080.jpg  3798.jpg   6537.jpg  9019.jpg\n",
            "11808.jpg  14124.jpg  16575.jpg  19089.jpg  3809.jpg   6585.jpg  9032.jpg\n",
            "11813.jpg  1413.jpg   16577.jpg  19101.jpg  3813.jpg   6586.jpg  9037.jpg\n",
            "11827.jpg  14148.jpg  16578.jpg  19104.jpg  3822.jpg   6587.jpg  9042.jpg\n",
            "11845.jpg  14158.jpg  16579.jpg  19108.jpg  3825.jpg   6605.jpg  904.jpg\n",
            "11855.jpg  1415.jpg   16593.jpg  19125.jpg  3829.jpg   6608.jpg  9059.jpg\n",
            "11883.jpg  14161.jpg  16594.jpg  19126.jpg  3831.jpg   6629.jpg  906.jpg\n",
            "11899.jpg  14182.jpg  16595.jpg  19127.jpg  3844.jpg   6641.jpg  9095.jpg\n",
            "11910.jpg  14184.jpg  16607.jpg  19134.jpg  3856.jpg   6643.jpg  909.jpg\n",
            "11924.jpg  14189.jpg  16614.jpg  19150.jpg  3869.jpg   6648.jpg  9112.jpg\n",
            "11929.jpg  14194.jpg  16623.jpg  19151.jpg  3878.jpg   6673.jpg  9117.jpg\n",
            "11937.jpg  14205.jpg  16624.jpg  19153.jpg  3888.jpg   6684.jpg  9127.jpg\n",
            "1193.jpg   14212.jpg  16643.jpg  19159.jpg  3905.jpg   6685.jpg  9135.jpg\n",
            "11941.jpg  14217.jpg  16672.jpg  19164.jpg  390.jpg    6699.jpg  9151.jpg\n",
            "11945.jpg  14218.jpg  16681.jpg  19180.jpg  3912.jpg   66.jpg\t 9157.jpg\n",
            "11947.jpg  14231.jpg  1668.jpg\t 191.jpg    3913.jpg   6700.jpg  9173.jpg\n",
            "11959.jpg  14246.jpg  16692.jpg  19217.jpg  3920.jpg   6702.jpg  9189.jpg\n",
            "11961.jpg  14247.jpg  16730.jpg  19221.jpg  3921.jpg   6710.jpg  9191.jpg\n",
            "1196.jpg   14261.jpg  16733.jpg  19228.jpg  3928.jpg   6718.jpg  9196.jpg\n",
            "11990.jpg  14284.jpg  16734.jpg  19245.jpg  3929.jpg   6720.jpg  9202.jpg\n",
            "11991.jpg  14294.jpg  16750.jpg  19249.jpg  392.jpg    6747.jpg  9208.jpg\n",
            "11992.jpg  14295.jpg  16753.jpg  19256.jpg  3931.jpg   6748.jpg  9217.jpg\n",
            "11993.jpg  14297.jpg  16774.jpg  19260.jpg  3955.jpg   6755.jpg  9231.jpg\n",
            "12000.jpg  1429.jpg   16786.jpg  19280.jpg  3956.jpg   6757.jpg  9241.jpg\n",
            "12010.jpg  142.jpg    16793.jpg  19293.jpg  3971.jpg   6759.jpg  9243.jpg\n",
            "1201.jpg   14300.jpg  16795.jpg  19302.jpg  3989.jpg   6763.jpg  9281.jpg\n",
            "12024.jpg  14318.jpg  16800.jpg  19325.jpg  3991.jpg   6767.jpg  9283.jpg\n",
            "12028.jpg  14321.jpg  16807.jpg  19332.jpg  3992.jpg   6773.jpg  9291.jpg\n",
            "12042.jpg  14365.jpg  16808.jpg  19344.jpg  3993.jpg   6780.jpg  9297.jpg\n",
            "1204.jpg   14372.jpg  16813.jpg  19347.jpg  4000.jpg   6795.jpg  92.jpg\n",
            "12050.jpg  14383.jpg  16837.jpg  19364.jpg  4002.jpg   6814.jpg  9312.jpg\n",
            "12058.jpg  14389.jpg  1683.jpg\t 19374.jpg  4012.jpg   6826.jpg  9329.jpg\n",
            "12060.jpg  14410.jpg  1684.jpg\t 19375.jpg  4016.jpg   6871.jpg  9332.jpg\n",
            "12063.jpg  14416.jpg  16873.jpg  1937.jpg   401.jpg    6884.jpg  9345.jpg\n",
            "12065.jpg  14434.jpg  1687.jpg\t 19383.jpg  4042.jpg   6890.jpg  9353.jpg\n",
            "12067.jpg  14439.jpg  16888.jpg  19386.jpg  4053.jpg   6891.jpg  9355.jpg\n",
            "12068.jpg  14447.jpg  16889.jpg  19405.jpg  4057.jpg   6894.jpg  9364.jpg\n",
            "12070.jpg  14454.jpg  16902.jpg  19407.jpg  4060.jpg   6897.jpg  9369.jpg\n",
            "12091.jpg  14456.jpg  16911.jpg  1940.jpg   4067.jpg   6898.jpg  9400.jpg\n",
            "12103.jpg  1445.jpg   16912.jpg  19416.jpg  4075.jpg   6903.jpg  9404.jpg\n",
            "12134.jpg  14464.jpg  16931.jpg  1943.jpg   4079.jpg   6909.jpg  9410.jpg\n",
            "12135.jpg  14467.jpg  16933.jpg  19440.jpg  4082.jpg   6927.jpg  9432.jpg\n",
            "12144.jpg  14474.jpg  16939.jpg  19446.jpg  4098.jpg   6935.jpg  9446.jpg\n",
            "12157.jpg  14521.jpg  1693.jpg\t 19447.jpg  4100.jpg   694.jpg\t 9458.jpg\n",
            "12160.jpg  14525.jpg  16948.jpg  19455.jpg  4129.jpg   6954.jpg  9487.jpg\n",
            "12168.jpg  14535.jpg  16952.jpg  19456.jpg  412.jpg    6956.jpg  9498.jpg\n",
            "12169.jpg  14543.jpg  16965.jpg  19460.jpg  4130.jpg   6958.jpg  9501.jpg\n",
            "12171.jpg  14548.jpg  16979.jpg  19466.jpg  4139.jpg   6959.jpg  9517.jpg\n",
            "12172.jpg  14556.jpg  16985.jpg  19513.jpg  4141.jpg   6961.jpg  9520.jpg\n",
            "12193.jpg  14565.jpg  16988.jpg  19526.jpg  4152.jpg   6970.jpg  9526.jpg\n",
            "12200.jpg  14568.jpg  17000.jpg  19537.jpg  4156.jpg   6983.jpg  9527.jpg\n",
            "1220.jpg   14576.jpg  17032.jpg  1954.jpg   4158.jpg   7010.jpg  9537.jpg\n",
            "1221.jpg   14577.jpg  17033.jpg  19552.jpg  4160.jpg   7024.jpg  9540.jpg\n",
            "12221.jpg  14649.jpg  17055.jpg  19556.jpg  4161.jpg   7035.jpg  9570.jpg\n",
            "12223.jpg  14651.jpg  17058.jpg  1955.jpg   4178.jpg   703.jpg\t 9578.jpg\n",
            "12231.jpg  14661.jpg  17064.jpg  19571.jpg  422.jpg    7054.jpg  960.jpg\n",
            "12232.jpg  14662.jpg  17065.jpg  19584.jpg  4233.jpg   7065.jpg  9622.jpg\n",
            "12233.jpg  14673.jpg  17073.jpg  19595.jpg  4239.jpg   7071.jpg  9627.jpg\n",
            "12244.jpg  14677.jpg  17075.jpg  1959.jpg   4244.jpg   7076.jpg  9631.jpg\n",
            "12257.jpg  14681.jpg  17085.jpg  19608.jpg  4253.jpg   7084.jpg  9637.jpg\n",
            "12263.jpg  14691.jpg  17094.jpg  19623.jpg  4259.jpg   7091.jpg  963.jpg\n",
            "12265.jpg  14694.jpg  17154.jpg  19624.jpg  4267.jpg   7108.jpg  9656.jpg\n",
            "12268.jpg  146.jpg    17156.jpg  19638.jpg  4269.jpg   7114.jpg  9673.jpg\n",
            "12273.jpg  14704.jpg  17161.jpg  19649.jpg  426.jpg    7118.jpg  967.jpg\n",
            "12280.jpg  14705.jpg  17165.jpg  1964.jpg   4290.jpg   7138.jpg  9680.jpg\n",
            "12288.jpg  14707.jpg  1716.jpg\t 19661.jpg  4294.jpg   7143.jpg  9684.jpg\n",
            "12290.jpg  14708.jpg  17187.jpg  19666.jpg  4304.jpg   7151.jpg  968.jpg\n",
            "12295.jpg  14710.jpg  1718.jpg\t 19668.jpg  4327.jpg   7168.jpg  9699.jpg\n",
            "12315.jpg  1471.jpg   17193.jpg  19674.jpg  4332.jpg   7171.jpg  96.jpg\n",
            "1231.jpg   14721.jpg  17198.jpg  19689.jpg  4337.jpg   7185.jpg  9716.jpg\n",
            "12330.jpg  14723.jpg  17202.jpg  19701.jpg  4338.jpg   7195.jpg  9725.jpg\n",
            "12348.jpg  14731.jpg  17211.jpg  19713.jpg  4341.jpg   7202.jpg  9736.jpg\n",
            "12382.jpg  14738.jpg  17225.jpg  19722.jpg  4351.jpg   7214.jpg  9737.jpg\n",
            "12384.jpg  14744.jpg  17235.jpg  19728.jpg  4359.jpg   721.jpg\t 9750.jpg\n",
            "12391.jpg  14749.jpg  17236.jpg  19735.jpg  4365.jpg   7222.jpg  9757.jpg\n",
            "12393.jpg  14756.jpg  17262.jpg  19776.jpg  4392.jpg   7227.jpg  9762.jpg\n",
            "12396.jpg  14758.jpg  17264.jpg  19778.jpg  4398.jpg   7228.jpg  9764.jpg\n",
            "12400.jpg  14760.jpg  17267.jpg  1977.jpg   440.jpg    7229.jpg  9767.jpg\n",
            "12406.jpg  14766.jpg  17270.jpg  19782.jpg  4440.jpg   7235.jpg  9768.jpg\n",
            "12417.jpg  14769.jpg  17272.jpg  19789.jpg  4455.jpg   7237.jpg  9769.jpg\n",
            "12426.jpg  14783.jpg  17273.jpg  1979.jpg   4457.jpg   7241.jpg  9785.jpg\n",
            "12427.jpg  14799.jpg  17296.jpg  19800.jpg  4458.jpg   7250.jpg  9807.jpg\n",
            "1242.jpg   14808.jpg  17302.jpg  19802.jpg  4459.jpg   7253.jpg  9810.jpg\n",
            "12432.jpg  14816.jpg  17308.jpg  19806.jpg  4463.jpg   7258.jpg  9811.jpg\n",
            "12435.jpg  14820.jpg  17322.jpg  19815.jpg  4466.jpg   7262.jpg  9819.jpg\n",
            "1244.jpg   14823.jpg  17330.jpg  19816.jpg  4469.jpg   7267.jpg  9821.jpg\n",
            "12451.jpg  14826.jpg  17332.jpg  19830.jpg  4479.jpg   726.jpg\t 9862.jpg\n",
            "12462.jpg  1482.jpg   17337.jpg  19846.jpg  4481.jpg   7276.jpg  9899.jpg\n",
            "12489.jpg  14830.jpg  17338.jpg  19848.jpg  4486.jpg   7277.jpg  9905.jpg\n",
            "1248.jpg   14837.jpg  17345.jpg  19855.jpg  448.jpg    727.jpg\t 990.jpg\n",
            "12494.jpg  14847.jpg  17354.jpg  19874.jpg  4500.jpg   7282.jpg  9913.jpg\n",
            "12500.jpg  14852.jpg  17397.jpg  19895.jpg  4506.jpg   7287.jpg  9918.jpg\n",
            "12507.jpg  14854.jpg  1739.jpg\t 19896.jpg  4517.jpg   7291.jpg  991.jpg\n",
            "12512.jpg  14856.jpg  17401.jpg  19901.jpg  451.jpg    7292.jpg  9921.jpg\n",
            "12513.jpg  14857.jpg  17403.jpg  19910.jpg  4520.jpg   7308.jpg  9922.jpg\n",
            "12517.jpg  14868.jpg  17406.jpg  19913.jpg  4534.jpg   7311.jpg  9925.jpg\n",
            "12533.jpg  14870.jpg  17416.jpg  19915.jpg  4544.jpg   7321.jpg  9929.jpg\n",
            "12535.jpg  14876.jpg  17418.jpg  19923.jpg  4551.jpg   7324.jpg  9932.jpg\n",
            "12536.jpg  14883.jpg  17425.jpg  19955.jpg  4557.jpg   7325.jpg  9938.jpg\n",
            "12540.jpg  14885.jpg  17427.jpg  19963.jpg  4558.jpg   7328.jpg  993.jpg\n",
            "12543.jpg  14892.jpg  17450.jpg  19969.jpg  4560.jpg   7342.jpg  9942.jpg\n",
            "12544.jpg  14894.jpg  17451.jpg  19973.jpg  4571.jpg   7347.jpg  9946.jpg\n",
            "12551.jpg  14896.jpg  17452.jpg  19976.jpg  4573.jpg   7357.jpg  9948.jpg\n",
            "12552.jpg  14898.jpg  17453.jpg  19978.jpg  4589.jpg   7361.jpg  9962.jpg\n",
            "12555.jpg  14903.jpg  17457.jpg  19996.jpg  4593.jpg   7374.jpg  9966.jpg\n",
            "12561.jpg  14912.jpg  17462.jpg  20011.jpg  4598.jpg   7379.jpg  9977.jpg\n"
          ]
        }
      ]
    },
    {
      "cell_type": "code",
      "metadata": {
        "id": "oJ1xf6EVXdL-",
        "colab": {
          "base_uri": "https://localhost:8080/",
          "height": 35
        },
        "outputId": "38f8e7a9-0a13-498b-f0ac-2baff06ba90b"
      },
      "source": [
        "ficheros = glob(\"./seg_train/forest/*\")\n",
        "ficheros[0]"
      ],
      "execution_count": 98,
      "outputs": [
        {
          "output_type": "execute_result",
          "data": {
            "application/vnd.google.colaboratory.intrinsic+json": {
              "type": "string"
            },
            "text/plain": [
              "'./seg_train/forest/1844.jpg'"
            ]
          },
          "metadata": {},
          "execution_count": 98
        }
      ]
    },
    {
      "cell_type": "code",
      "metadata": {
        "id": "5Ck_4gkiezfz",
        "colab": {
          "base_uri": "https://localhost:8080/",
          "height": 167
        },
        "outputId": "3066c93f-e068-4dde-889f-555857d31090"
      },
      "source": [
        "imagen = load_img(ficheros[4])\n",
        "imagen"
      ],
      "execution_count": 15,
      "outputs": [
        {
          "output_type": "execute_result",
          "data": {
            "image/png": "[encoded data removed]",
            "text/plain": [
              "<PIL.JpegImagePlugin.JpegImageFile image mode=RGB size=150x150 at 0x7FE45C86FCD0>"
            ]
          },
          "metadata": {},
          "execution_count": 15
        }
      ]
    },
    {
      "cell_type": "code",
      "metadata": {
        "id": "d6OhpQXHsTAz",
        "colab": {
          "base_uri": "https://localhost:8080/"
        },
        "outputId": "c8601244-098c-4381-ffb9-0593ad975f5a"
      },
      "source": [
        "imagen.size"
      ],
      "execution_count": 16,
      "outputs": [
        {
          "output_type": "execute_result",
          "data": {
            "text/plain": [
              "(150, 150)"
            ]
          },
          "metadata": {},
          "execution_count": 16
        }
      ]
    },
    {
      "cell_type": "code",
      "source": [
        "#partir training en training y validacion"
      ],
      "metadata": {
        "id": "vC3Zsp0QECFZ"
      },
      "execution_count": null,
      "outputs": []
    },
    {
      "cell_type": "code",
      "source": [
        "clases= ['buildings', 'forest', 'glacier', 'mountain', 'sea', 'street']\n",
        "\n",
        "rutas_trval= []\n",
        "clases_trval= []\n",
        "\n",
        "\n",
        "for clase in clases:\n",
        "  rutas_aux = glob(\"./seg_train/forest/*\".format(clase))\n",
        "  clases_aux = len(rutas_aux)*[clase]\n",
        "  print(rutas_aux[:3])\n",
        "  print(clases_aux[:3])\n",
        "\n",
        "\n",
        "  rutas_trval.extend(rutas_aux)\n",
        "  clases_trval.extend(clases_aux)"
      ],
      "metadata": {
        "colab": {
          "base_uri": "https://localhost:8080/"
        },
        "id": "oJHgsCvvEB9o",
        "outputId": "135efea5-acc7-4ea5-8afb-25892c220b7c"
      },
      "execution_count": 103,
      "outputs": [
        {
          "output_type": "stream",
          "name": "stdout",
          "text": [
            "['./seg_train/forest/1844.jpg', './seg_train/forest/11724.jpg', './seg_train/forest/2699.jpg']\n",
            "['buildings', 'buildings', 'buildings']\n",
            "['./seg_train/forest/1844.jpg', './seg_train/forest/11724.jpg', './seg_train/forest/2699.jpg']\n",
            "['forest', 'forest', 'forest']\n",
            "['./seg_train/forest/1844.jpg', './seg_train/forest/11724.jpg', './seg_train/forest/2699.jpg']\n",
            "['glacier', 'glacier', 'glacier']\n",
            "['./seg_train/forest/1844.jpg', './seg_train/forest/11724.jpg', './seg_train/forest/2699.jpg']\n",
            "['mountain', 'mountain', 'mountain']\n",
            "['./seg_train/forest/1844.jpg', './seg_train/forest/11724.jpg', './seg_train/forest/2699.jpg']\n",
            "['sea', 'sea', 'sea']\n",
            "['./seg_train/forest/1844.jpg', './seg_train/forest/11724.jpg', './seg_train/forest/2699.jpg']\n",
            "['street', 'street', 'street']\n"
          ]
        }
      ]
    },
    {
      "cell_type": "code",
      "source": [
        "import pandas as pd\n",
        "\n",
        "\n",
        "df_trval= pd.DataFrame({'ruta':rutas_trval, 'clase':clases_trval})\n",
        "df_trval"
      ],
      "metadata": {
        "colab": {
          "base_uri": "https://localhost:8080/",
          "height": 424
        },
        "id": "QNnTnIA1EBtY",
        "outputId": "dd88f895-6151-4c7d-8eed-b9e82e33146f"
      },
      "execution_count": 110,
      "outputs": [
        {
          "output_type": "execute_result",
          "data": {
            "text/html": [
              "<div>\n",
              "<style scoped>\n",
              "    .dataframe tbody tr th:only-of-type {\n",
              "        vertical-align: middle;\n",
              "    }\n",
              "\n",
              "    .dataframe tbody tr th {\n",
              "        vertical-align: top;\n",
              "    }\n",
              "\n",
              "    .dataframe thead th {\n",
              "        text-align: right;\n",
              "    }\n",
              "</style>\n",
              "<table border=\"1\" class=\"dataframe\">\n",
              "  <thead>\n",
              "    <tr style=\"text-align: right;\">\n",
              "      <th></th>\n",
              "      <th>ruta</th>\n",
              "      <th>clase</th>\n",
              "    </tr>\n",
              "  </thead>\n",
              "  <tbody>\n",
              "    <tr>\n",
              "      <th>0</th>\n",
              "      <td>./seg_train/forest/1844.jpg</td>\n",
              "      <td>buildings</td>\n",
              "    </tr>\n",
              "    <tr>\n",
              "      <th>1</th>\n",
              "      <td>./seg_train/forest/11724.jpg</td>\n",
              "      <td>buildings</td>\n",
              "    </tr>\n",
              "    <tr>\n",
              "      <th>2</th>\n",
              "      <td>./seg_train/forest/2699.jpg</td>\n",
              "      <td>buildings</td>\n",
              "    </tr>\n",
              "    <tr>\n",
              "      <th>3</th>\n",
              "      <td>./seg_train/forest/12016.jpg</td>\n",
              "      <td>buildings</td>\n",
              "    </tr>\n",
              "    <tr>\n",
              "      <th>4</th>\n",
              "      <td>./seg_train/forest/13880.jpg</td>\n",
              "      <td>buildings</td>\n",
              "    </tr>\n",
              "    <tr>\n",
              "      <th>...</th>\n",
              "      <td>...</td>\n",
              "      <td>...</td>\n",
              "    </tr>\n",
              "    <tr>\n",
              "      <th>13621</th>\n",
              "      <td>./seg_train/forest/7955.jpg</td>\n",
              "      <td>street</td>\n",
              "    </tr>\n",
              "    <tr>\n",
              "      <th>13622</th>\n",
              "      <td>./seg_train/forest/1096.jpg</td>\n",
              "      <td>street</td>\n",
              "    </tr>\n",
              "    <tr>\n",
              "      <th>13623</th>\n",
              "      <td>./seg_train/forest/19072.jpg</td>\n",
              "      <td>street</td>\n",
              "    </tr>\n",
              "    <tr>\n",
              "      <th>13624</th>\n",
              "      <td>./seg_train/forest/2457.jpg</td>\n",
              "      <td>street</td>\n",
              "    </tr>\n",
              "    <tr>\n",
              "      <th>13625</th>\n",
              "      <td>./seg_train/forest/13970.jpg</td>\n",
              "      <td>street</td>\n",
              "    </tr>\n",
              "  </tbody>\n",
              "</table>\n",
              "<p>13626 rows × 2 columns</p>\n",
              "</div>"
            ],
            "text/plain": [
              "                               ruta      clase\n",
              "0       ./seg_train/forest/1844.jpg  buildings\n",
              "1      ./seg_train/forest/11724.jpg  buildings\n",
              "2       ./seg_train/forest/2699.jpg  buildings\n",
              "3      ./seg_train/forest/12016.jpg  buildings\n",
              "4      ./seg_train/forest/13880.jpg  buildings\n",
              "...                             ...        ...\n",
              "13621   ./seg_train/forest/7955.jpg     street\n",
              "13622   ./seg_train/forest/1096.jpg     street\n",
              "13623  ./seg_train/forest/19072.jpg     street\n",
              "13624   ./seg_train/forest/2457.jpg     street\n",
              "13625  ./seg_train/forest/13970.jpg     street\n",
              "\n",
              "[13626 rows x 2 columns]"
            ]
          },
          "metadata": {},
          "execution_count": 110
        }
      ]
    },
    {
      "cell_type": "code",
      "source": [
        "from sklearn.model_selection import train_test_split\n",
        "\n",
        "df_train, df_val = train_test_split(df_trval, train_size= 0.5, random_state=1, stratify=df_trval[\"clase\"])"
      ],
      "metadata": {
        "id": "JmOQhXYOGJjK"
      },
      "execution_count": 111,
      "outputs": []
    },
    {
      "cell_type": "code",
      "source": [
        "df_train['clase'].value_counts() / len(df_train)*100"
      ],
      "metadata": {
        "colab": {
          "base_uri": "https://localhost:8080/"
        },
        "id": "bHfLUeyFGciq",
        "outputId": "b0daef9c-d206-4058-a609-29be4454de78"
      },
      "execution_count": 112,
      "outputs": [
        {
          "output_type": "execute_result",
          "data": {
            "text/plain": [
              "forest       16.674006\n",
              "glacier      16.674006\n",
              "sea          16.674006\n",
              "buildings    16.659328\n",
              "mountain     16.659328\n",
              "street       16.659328\n",
              "Name: clase, dtype: float64"
            ]
          },
          "metadata": {},
          "execution_count": 112
        }
      ]
    },
    {
      "cell_type": "code",
      "source": [
        "df_val['clase'].value_counts() / len(df_train)*100"
      ],
      "metadata": {
        "colab": {
          "base_uri": "https://localhost:8080/"
        },
        "id": "iBfMAjkxGcfy",
        "outputId": "e6310d89-29c5-4460-9571-3d6522a966f2"
      },
      "execution_count": 113,
      "outputs": [
        {
          "output_type": "execute_result",
          "data": {
            "text/plain": [
              "buildings    16.674006\n",
              "mountain     16.674006\n",
              "street       16.674006\n",
              "forest       16.659328\n",
              "glacier      16.659328\n",
              "sea          16.659328\n",
              "Name: clase, dtype: float64"
            ]
          },
          "metadata": {},
          "execution_count": 113
        }
      ]
    },
    {
      "cell_type": "code",
      "source": [
        ""
      ],
      "metadata": {
        "id": "-zrbeL29GcYD"
      },
      "execution_count": null,
      "outputs": []
    },
    {
      "cell_type": "code",
      "source": [
        ""
      ],
      "metadata": {
        "id": "2ZPolGKgGcR6"
      },
      "execution_count": null,
      "outputs": []
    },
    {
      "cell_type": "code",
      "metadata": {
        "id": "xrluBG4VWa3S"
      },
      "source": [
        "#train_data_dir = 'seg_train'\n",
        "#validation_data_dir = 'seg_test'\n",
        "test_data_dir = 'seg_test'\n",
        "\n",
        "batch_size = 16"
      ],
      "execution_count": 114,
      "outputs": []
    },
    {
      "cell_type": "markdown",
      "metadata": {
        "id": "c-u9ZVoRWANS"
      },
      "source": [
        "Para ver opciones:\n",
        "\n",
        "https://keras.io/api/preprocessing/image/#imagedatagenerator-class\n"
      ]
    },
    {
      "cell_type": "code",
      "metadata": {
        "id": "Vb3RiGQPYM1a"
      },
      "source": [
        "\n",
        "# data augmentation:\n",
        "\n",
        "train_datagen = ImageDataGenerator(\n",
        "    rescale=1. / 255,\n",
        "    rotation_range=20,\n",
        "    width_shift_range=0.1,\n",
        "    height_shift_range=0.1,\n",
        "    fill_mode='mirror', # 'nearest',\n",
        "    shear_range=0.1,\n",
        "    zoom_range=0.2,\n",
        "    horizontal_flip=True)"
      ],
      "execution_count": 115,
      "outputs": []
    },
    {
      "cell_type": "code",
      "metadata": {
        "id": "JEgFiD9Kap84"
      },
      "source": [
        "imagen_num = np.array([img_to_array(imagen)])"
      ],
      "execution_count": 116,
      "outputs": []
    },
    {
      "cell_type": "code",
      "metadata": {
        "id": "MUtIwZ_-Y3T0",
        "colab": {
          "base_uri": "https://localhost:8080/",
          "height": 248
        },
        "outputId": "59b5c779-bb6d-4512-db59-6ec4aff7358a"
      },
      "source": [
        "plt.imshow(train_datagen.flow(imagen_num)[0][0])\n",
        "plt.axis(\"off\");"
      ],
      "execution_count": 117,
      "outputs": [
        {
          "output_type": "display_data",
          "data": {
            "image/png": "[encoded data removed]",
            "text/plain": [
              "<Figure size 432x288 with 1 Axes>"
            ]
          },
          "metadata": {
            "needs_background": "light"
          }
        }
      ]
    },
    {
      "cell_type": "code",
      "metadata": {
        "id": "rx5NIFyWdSf_"
      },
      "source": [
        "# dimensiones a las que vamos a llevar las imágenes\n",
        "img_width, img_height = 75, 75\n",
        "\n",
        "normed_dims = (img_height, img_width)"
      ],
      "execution_count": 118,
      "outputs": []
    },
    {
      "cell_type": "code",
      "metadata": {
        "id": "Gwd_tQQGw2em",
        "colab": {
          "base_uri": "https://localhost:8080/"
        },
        "outputId": "7835074e-ea07-471d-d11c-6d045cb2db87"
      },
      "source": [
        "normed_dims"
      ],
      "execution_count": 119,
      "outputs": [
        {
          "output_type": "execute_result",
          "data": {
            "text/plain": [
              "(75, 75)"
            ]
          },
          "metadata": {},
          "execution_count": 119
        }
      ]
    },
    {
      "cell_type": "code",
      "metadata": {
        "id": "QxoRH0yK1ENu"
      },
      "source": [
        "# sparse_categorical_crossentropy\n",
        "\n",
        "#building: 0\n",
        "# 1,0,0,0,0,0\n",
        "\n",
        "# forest': 1\n",
        "# 0,1,0,0,0,0\n",
        "\n",
        "# glacier: 2\n",
        "# 0,0,1,0,0,0\n",
        "\n",
        "# mountain: 3\n",
        "# 0,0,0,1,0,0\n",
        "\n",
        "# sea: 4,\n",
        "# 0,0,0,0,1,0\n",
        "\n",
        "# street: 5\n",
        "# 0,0,0,0,0,1"
      ],
      "execution_count": 79,
      "outputs": []
    },
    {
      "cell_type": "code",
      "metadata": {
        "id": "_oPCg2IUWa3b"
      },
      "source": [
        "# Definir arquitectura del modelo:\n",
        "\n",
        "model = Sequential()\n",
        "\n",
        "model.add(Conv2D(32, (3,3), activation='relu',\n",
        "                 input_shape=normed_dims+(3,)))\n",
        "model.add(MaxPooling2D((2,2)))\n",
        "model.add(Conv2D(32, (3,3), activation='relu'))\n",
        "model.add(MaxPooling2D((2,2)))\n",
        "model.add(Conv2D(64, (3,3), activation='relu'))\n",
        "model.add(MaxPooling2D((2,2)))\n",
        "model.add(Flatten())\n",
        "# aqui empieza la red neuronal 'standard'\n",
        "model.add(Dropout(0.5))\n",
        "model.add(Dense(10, activation='relu', kernel_regularizer=\"l2\")) # regularizador L2\n",
        "model.add(Dropout(0.5))\n",
        "model.add(Dense(6, activation='softmax'))\n",
        "\n",
        "\n",
        "\n",
        "\n",
        "model.compile(optimizer='adam', loss='sparse_categorical_crossentropy',\n",
        "              metrics=[\"accuracy\"])"
      ],
      "execution_count": 120,
      "outputs": []
    },
    {
      "cell_type": "code",
      "metadata": {
        "id": "FMhLfxCAWa3c",
        "colab": {
          "base_uri": "https://localhost:8080/"
        },
        "outputId": "4d2db5b1-eebb-4282-8187-78367102feac"
      },
      "source": [
        "model.summary()"
      ],
      "execution_count": 81,
      "outputs": [
        {
          "output_type": "stream",
          "name": "stdout",
          "text": [
            "Model: \"sequential_8\"\n",
            "_________________________________________________________________\n",
            " Layer (type)                Output Shape              Param #   \n",
            "=================================================================\n",
            " conv2d_30 (Conv2D)          (None, 73, 73, 32)        896       \n",
            "                                                                 \n",
            " max_pooling2d_16 (MaxPoolin  (None, 36, 36, 32)       0         \n",
            " g2D)                                                            \n",
            "                                                                 \n",
            " conv2d_31 (Conv2D)          (None, 34, 34, 32)        9248      \n",
            "                                                                 \n",
            " max_pooling2d_17 (MaxPoolin  (None, 17, 17, 32)       0         \n",
            " g2D)                                                            \n",
            "                                                                 \n",
            " conv2d_32 (Conv2D)          (None, 15, 15, 64)        18496     \n",
            "                                                                 \n",
            " max_pooling2d_18 (MaxPoolin  (None, 7, 7, 64)         0         \n",
            " g2D)                                                            \n",
            "                                                                 \n",
            " flatten_7 (Flatten)         (None, 3136)              0         \n",
            "                                                                 \n",
            " dropout_10 (Dropout)        (None, 3136)              0         \n",
            "                                                                 \n",
            " dense_19 (Dense)            (None, 32)                100384    \n",
            "                                                                 \n",
            " dropout_11 (Dropout)        (None, 32)                0         \n",
            "                                                                 \n",
            " dense_20 (Dense)            (None, 6)                 198       \n",
            "                                                                 \n",
            "=================================================================\n",
            "Total params: 129,222\n",
            "Trainable params: 129,222\n",
            "Non-trainable params: 0\n",
            "_________________________________________________________________\n"
          ]
        }
      ]
    },
    {
      "cell_type": "code",
      "metadata": {
        "id": "Ju3YuClNWa3e",
        "colab": {
          "base_uri": "https://localhost:8080/",
          "height": 1000
        },
        "outputId": "79710c41-dee3-4ef3-91c6-139c3756428f"
      },
      "source": [
        "from IPython.display import SVG\n",
        "from keras.utils.vis_utils import model_to_dot\n",
        "\n",
        "if COLAB:\n",
        "    display(SVG(model_to_dot(model, show_shapes=True,dpi=72).create(prog='dot', format='svg')))\n",
        "else:\n",
        "    display(SVG(model_to_dot(model, show_shapes=True).create(prog='dot', format='svg')))"
      ],
      "execution_count": 121,
      "outputs": [
        {
          "output_type": "display_data",
          "data": {
            "text/plain": [
              "<IPython.core.display.SVG object>"
            ],
            "image/svg+xml": "<svg height=\"968pt\" viewBox=\"0.00 0.00 429.00 968.00\" width=\"429pt\" xmlns=\"http://www.w3.org/2000/svg\" xmlns:xlink=\"http://www.w3.org/1999/xlink\">\n<g class=\"graph\" id=\"graph0\" transform=\"scale(1 1) rotate(0) translate(4 964)\">\n<title>G</title>\n<polygon fill=\"#ffffff\" points=\"-4,4 -4,-964 425,-964 425,4 -4,4\" stroke=\"transparent\"/>\n<!-- 140614541990096 -->\n<g class=\"node\" id=\"node1\">\n<title>140614541990096</title>\n<polygon fill=\"none\" points=\"18.5,-913.5 18.5,-959.5 402.5,-959.5 402.5,-913.5 18.5,-913.5\" stroke=\"#000000\"/>\n<text fill=\"#000000\" font-family=\"Times,serif\" font-size=\"14.00\" text-anchor=\"middle\" x=\"78.5\" y=\"-932.8\">conv2d_33_input</text>\n<polyline fill=\"none\" points=\"138.5,-913.5 138.5,-959.5 \" stroke=\"#000000\"/>\n<text fill=\"#000000\" font-family=\"Times,serif\" font-size=\"14.00\" text-anchor=\"middle\" x=\"178.5\" y=\"-932.8\">InputLayer</text>\n<polyline fill=\"none\" points=\"218.5,-913.5 218.5,-959.5 \" stroke=\"#000000\"/>\n<text fill=\"#000000\" font-family=\"Times,serif\" font-size=\"14.00\" text-anchor=\"middle\" x=\"247.5\" y=\"-944.3\">input:</text>\n<polyline fill=\"none\" points=\"218.5,-936.5 276.5,-936.5 \" stroke=\"#000000\"/>\n<text fill=\"#000000\" font-family=\"Times,serif\" font-size=\"14.00\" text-anchor=\"middle\" x=\"247.5\" y=\"-921.3\">output:</text>\n<polyline fill=\"none\" points=\"276.5,-913.5 276.5,-959.5 \" stroke=\"#000000\"/>\n<text fill=\"#000000\" font-family=\"Times,serif\" font-size=\"14.00\" text-anchor=\"middle\" x=\"339.5\" y=\"-944.3\">[(None, 75, 75, 3)]</text>\n<polyline fill=\"none\" points=\"276.5,-936.5 402.5,-936.5 \" stroke=\"#000000\"/>\n<text fill=\"#000000\" font-family=\"Times,serif\" font-size=\"14.00\" text-anchor=\"middle\" x=\"339.5\" y=\"-921.3\">[(None, 75, 75, 3)]</text>\n</g>\n<!-- 140614541974992 -->\n<g class=\"node\" id=\"node2\">\n<title>140614541974992</title>\n<polygon fill=\"none\" points=\"44,-830.5 44,-876.5 377,-876.5 377,-830.5 44,-830.5\" stroke=\"#000000\"/>\n<text fill=\"#000000\" font-family=\"Times,serif\" font-size=\"14.00\" text-anchor=\"middle\" x=\"85.5\" y=\"-849.8\">conv2d_33</text>\n<polyline fill=\"none\" points=\"127,-830.5 127,-876.5 \" stroke=\"#000000\"/>\n<text fill=\"#000000\" font-family=\"Times,serif\" font-size=\"14.00\" text-anchor=\"middle\" x=\"160.5\" y=\"-849.8\">Conv2D</text>\n<polyline fill=\"none\" points=\"194,-830.5 194,-876.5 \" stroke=\"#000000\"/>\n<text fill=\"#000000\" font-family=\"Times,serif\" font-size=\"14.00\" text-anchor=\"middle\" x=\"223\" y=\"-861.3\">input:</text>\n<polyline fill=\"none\" points=\"194,-853.5 252,-853.5 \" stroke=\"#000000\"/>\n<text fill=\"#000000\" font-family=\"Times,serif\" font-size=\"14.00\" text-anchor=\"middle\" x=\"223\" y=\"-838.3\">output:</text>\n<polyline fill=\"none\" points=\"252,-830.5 252,-876.5 \" stroke=\"#000000\"/>\n<text fill=\"#000000\" font-family=\"Times,serif\" font-size=\"14.00\" text-anchor=\"middle\" x=\"314.5\" y=\"-861.3\">(None, 75, 75, 3)</text>\n<polyline fill=\"none\" points=\"252,-853.5 377,-853.5 \" stroke=\"#000000\"/>\n<text fill=\"#000000\" font-family=\"Times,serif\" font-size=\"14.00\" text-anchor=\"middle\" x=\"314.5\" y=\"-838.3\">(None, 73, 73, 32)</text>\n</g>\n<!-- 140614541990096&#45;&gt;140614541974992 -->\n<g class=\"edge\" id=\"edge1\">\n<title>140614541990096-&gt;140614541974992</title>\n<path d=\"M210.5,-913.3799C210.5,-905.1745 210.5,-895.7679 210.5,-886.8786\" fill=\"none\" stroke=\"#000000\"/>\n<polygon fill=\"#000000\" points=\"214.0001,-886.784 210.5,-876.784 207.0001,-886.784 214.0001,-886.784\" stroke=\"#000000\"/>\n</g>\n<!-- 140614541975120 -->\n<g class=\"node\" id=\"node3\">\n<title>140614541975120</title>\n<polygon fill=\"none\" points=\"0,-747.5 0,-793.5 421,-793.5 421,-747.5 0,-747.5\" stroke=\"#000000\"/>\n<text fill=\"#000000\" font-family=\"Times,serif\" font-size=\"14.00\" text-anchor=\"middle\" x=\"65.5\" y=\"-766.8\">max_pooling2d_19</text>\n<polyline fill=\"none\" points=\"131,-747.5 131,-793.5 \" stroke=\"#000000\"/>\n<text fill=\"#000000\" font-family=\"Times,serif\" font-size=\"14.00\" text-anchor=\"middle\" x=\"184.5\" y=\"-766.8\">MaxPooling2D</text>\n<polyline fill=\"none\" points=\"238,-747.5 238,-793.5 \" stroke=\"#000000\"/>\n<text fill=\"#000000\" font-family=\"Times,serif\" font-size=\"14.00\" text-anchor=\"middle\" x=\"267\" y=\"-778.3\">input:</text>\n<polyline fill=\"none\" points=\"238,-770.5 296,-770.5 \" stroke=\"#000000\"/>\n<text fill=\"#000000\" font-family=\"Times,serif\" font-size=\"14.00\" text-anchor=\"middle\" x=\"267\" y=\"-755.3\">output:</text>\n<polyline fill=\"none\" points=\"296,-747.5 296,-793.5 \" stroke=\"#000000\"/>\n<text fill=\"#000000\" font-family=\"Times,serif\" font-size=\"14.00\" text-anchor=\"middle\" x=\"358.5\" y=\"-778.3\">(None, 73, 73, 32)</text>\n<polyline fill=\"none\" points=\"296,-770.5 421,-770.5 \" stroke=\"#000000\"/>\n<text fill=\"#000000\" font-family=\"Times,serif\" font-size=\"14.00\" text-anchor=\"middle\" x=\"358.5\" y=\"-755.3\">(None, 36, 36, 32)</text>\n</g>\n<!-- 140614541974992&#45;&gt;140614541975120 -->\n<g class=\"edge\" id=\"edge2\">\n<title>140614541974992-&gt;140614541975120</title>\n<path d=\"M210.5,-830.3799C210.5,-822.1745 210.5,-812.7679 210.5,-803.8786\" fill=\"none\" stroke=\"#000000\"/>\n<polygon fill=\"#000000\" points=\"214.0001,-803.784 210.5,-793.784 207.0001,-803.784 214.0001,-803.784\" stroke=\"#000000\"/>\n</g>\n<!-- 140614542016016 -->\n<g class=\"node\" id=\"node4\">\n<title>140614542016016</title>\n<polygon fill=\"none\" points=\"44,-664.5 44,-710.5 377,-710.5 377,-664.5 44,-664.5\" stroke=\"#000000\"/>\n<text fill=\"#000000\" font-family=\"Times,serif\" font-size=\"14.00\" text-anchor=\"middle\" x=\"85.5\" y=\"-683.8\">conv2d_34</text>\n<polyline fill=\"none\" points=\"127,-664.5 127,-710.5 \" stroke=\"#000000\"/>\n<text fill=\"#000000\" font-family=\"Times,serif\" font-size=\"14.00\" text-anchor=\"middle\" x=\"160.5\" y=\"-683.8\">Conv2D</text>\n<polyline fill=\"none\" points=\"194,-664.5 194,-710.5 \" stroke=\"#000000\"/>\n<text fill=\"#000000\" font-family=\"Times,serif\" font-size=\"14.00\" text-anchor=\"middle\" x=\"223\" y=\"-695.3\">input:</text>\n<polyline fill=\"none\" points=\"194,-687.5 252,-687.5 \" stroke=\"#000000\"/>\n<text fill=\"#000000\" font-family=\"Times,serif\" font-size=\"14.00\" text-anchor=\"middle\" x=\"223\" y=\"-672.3\">output:</text>\n<polyline fill=\"none\" points=\"252,-664.5 252,-710.5 \" stroke=\"#000000\"/>\n<text fill=\"#000000\" font-family=\"Times,serif\" font-size=\"14.00\" text-anchor=\"middle\" x=\"314.5\" y=\"-695.3\">(None, 36, 36, 32)</text>\n<polyline fill=\"none\" points=\"252,-687.5 377,-687.5 \" stroke=\"#000000\"/>\n<text fill=\"#000000\" font-family=\"Times,serif\" font-size=\"14.00\" text-anchor=\"middle\" x=\"314.5\" y=\"-672.3\">(None, 34, 34, 32)</text>\n</g>\n<!-- 140614541975120&#45;&gt;140614542016016 -->\n<g class=\"edge\" id=\"edge3\">\n<title>140614541975120-&gt;140614542016016</title>\n<path d=\"M210.5,-747.3799C210.5,-739.1745 210.5,-729.7679 210.5,-720.8786\" fill=\"none\" stroke=\"#000000\"/>\n<polygon fill=\"#000000\" points=\"214.0001,-720.784 210.5,-710.784 207.0001,-720.784 214.0001,-720.784\" stroke=\"#000000\"/>\n</g>\n<!-- 140614542015568 -->\n<g class=\"node\" id=\"node5\">\n<title>140614542015568</title>\n<polygon fill=\"none\" points=\"0,-581.5 0,-627.5 421,-627.5 421,-581.5 0,-581.5\" stroke=\"#000000\"/>\n<text fill=\"#000000\" font-family=\"Times,serif\" font-size=\"14.00\" text-anchor=\"middle\" x=\"65.5\" y=\"-600.8\">max_pooling2d_20</text>\n<polyline fill=\"none\" points=\"131,-581.5 131,-627.5 \" stroke=\"#000000\"/>\n<text fill=\"#000000\" font-family=\"Times,serif\" font-size=\"14.00\" text-anchor=\"middle\" x=\"184.5\" y=\"-600.8\">MaxPooling2D</text>\n<polyline fill=\"none\" points=\"238,-581.5 238,-627.5 \" stroke=\"#000000\"/>\n<text fill=\"#000000\" font-family=\"Times,serif\" font-size=\"14.00\" text-anchor=\"middle\" x=\"267\" y=\"-612.3\">input:</text>\n<polyline fill=\"none\" points=\"238,-604.5 296,-604.5 \" stroke=\"#000000\"/>\n<text fill=\"#000000\" font-family=\"Times,serif\" font-size=\"14.00\" text-anchor=\"middle\" x=\"267\" y=\"-589.3\">output:</text>\n<polyline fill=\"none\" points=\"296,-581.5 296,-627.5 \" stroke=\"#000000\"/>\n<text fill=\"#000000\" font-family=\"Times,serif\" font-size=\"14.00\" text-anchor=\"middle\" x=\"358.5\" y=\"-612.3\">(None, 34, 34, 32)</text>\n<polyline fill=\"none\" points=\"296,-604.5 421,-604.5 \" stroke=\"#000000\"/>\n<text fill=\"#000000\" font-family=\"Times,serif\" font-size=\"14.00\" text-anchor=\"middle\" x=\"358.5\" y=\"-589.3\">(None, 17, 17, 32)</text>\n</g>\n<!-- 140614542016016&#45;&gt;140614542015568 -->\n<g class=\"edge\" id=\"edge4\">\n<title>140614542016016-&gt;140614542015568</title>\n<path d=\"M210.5,-664.3799C210.5,-656.1745 210.5,-646.7679 210.5,-637.8786\" fill=\"none\" stroke=\"#000000\"/>\n<polygon fill=\"#000000\" points=\"214.0001,-637.784 210.5,-627.784 207.0001,-637.784 214.0001,-637.784\" stroke=\"#000000\"/>\n</g>\n<!-- 140618772407696 -->\n<g class=\"node\" id=\"node6\">\n<title>140618772407696</title>\n<polygon fill=\"none\" points=\"44,-498.5 44,-544.5 377,-544.5 377,-498.5 44,-498.5\" stroke=\"#000000\"/>\n<text fill=\"#000000\" font-family=\"Times,serif\" font-size=\"14.00\" text-anchor=\"middle\" x=\"85.5\" y=\"-517.8\">conv2d_35</text>\n<polyline fill=\"none\" points=\"127,-498.5 127,-544.5 \" stroke=\"#000000\"/>\n<text fill=\"#000000\" font-family=\"Times,serif\" font-size=\"14.00\" text-anchor=\"middle\" x=\"160.5\" y=\"-517.8\">Conv2D</text>\n<polyline fill=\"none\" points=\"194,-498.5 194,-544.5 \" stroke=\"#000000\"/>\n<text fill=\"#000000\" font-family=\"Times,serif\" font-size=\"14.00\" text-anchor=\"middle\" x=\"223\" y=\"-529.3\">input:</text>\n<polyline fill=\"none\" points=\"194,-521.5 252,-521.5 \" stroke=\"#000000\"/>\n<text fill=\"#000000\" font-family=\"Times,serif\" font-size=\"14.00\" text-anchor=\"middle\" x=\"223\" y=\"-506.3\">output:</text>\n<polyline fill=\"none\" points=\"252,-498.5 252,-544.5 \" stroke=\"#000000\"/>\n<text fill=\"#000000\" font-family=\"Times,serif\" font-size=\"14.00\" text-anchor=\"middle\" x=\"314.5\" y=\"-529.3\">(None, 17, 17, 32)</text>\n<polyline fill=\"none\" points=\"252,-521.5 377,-521.5 \" stroke=\"#000000\"/>\n<text fill=\"#000000\" font-family=\"Times,serif\" font-size=\"14.00\" text-anchor=\"middle\" x=\"314.5\" y=\"-506.3\">(None, 15, 15, 64)</text>\n</g>\n<!-- 140614542015568&#45;&gt;140618772407696 -->\n<g class=\"edge\" id=\"edge5\">\n<title>140614542015568-&gt;140618772407696</title>\n<path d=\"M210.5,-581.3799C210.5,-573.1745 210.5,-563.7679 210.5,-554.8786\" fill=\"none\" stroke=\"#000000\"/>\n<polygon fill=\"#000000\" points=\"214.0001,-554.784 210.5,-544.784 207.0001,-554.784 214.0001,-554.784\" stroke=\"#000000\"/>\n</g>\n<!-- 140618772806224 -->\n<g class=\"node\" id=\"node7\">\n<title>140618772806224</title>\n<polygon fill=\"none\" points=\"0,-415.5 0,-461.5 421,-461.5 421,-415.5 0,-415.5\" stroke=\"#000000\"/>\n<text fill=\"#000000\" font-family=\"Times,serif\" font-size=\"14.00\" text-anchor=\"middle\" x=\"65.5\" y=\"-434.8\">max_pooling2d_21</text>\n<polyline fill=\"none\" points=\"131,-415.5 131,-461.5 \" stroke=\"#000000\"/>\n<text fill=\"#000000\" font-family=\"Times,serif\" font-size=\"14.00\" text-anchor=\"middle\" x=\"184.5\" y=\"-434.8\">MaxPooling2D</text>\n<polyline fill=\"none\" points=\"238,-415.5 238,-461.5 \" stroke=\"#000000\"/>\n<text fill=\"#000000\" font-family=\"Times,serif\" font-size=\"14.00\" text-anchor=\"middle\" x=\"267\" y=\"-446.3\">input:</text>\n<polyline fill=\"none\" points=\"238,-438.5 296,-438.5 \" stroke=\"#000000\"/>\n<text fill=\"#000000\" font-family=\"Times,serif\" font-size=\"14.00\" text-anchor=\"middle\" x=\"267\" y=\"-423.3\">output:</text>\n<polyline fill=\"none\" points=\"296,-415.5 296,-461.5 \" stroke=\"#000000\"/>\n<text fill=\"#000000\" font-family=\"Times,serif\" font-size=\"14.00\" text-anchor=\"middle\" x=\"358.5\" y=\"-446.3\">(None, 15, 15, 64)</text>\n<polyline fill=\"none\" points=\"296,-438.5 421,-438.5 \" stroke=\"#000000\"/>\n<text fill=\"#000000\" font-family=\"Times,serif\" font-size=\"14.00\" text-anchor=\"middle\" x=\"358.5\" y=\"-423.3\">(None, 7, 7, 64)</text>\n</g>\n<!-- 140618772407696&#45;&gt;140618772806224 -->\n<g class=\"edge\" id=\"edge6\">\n<title>140618772407696-&gt;140618772806224</title>\n<path d=\"M210.5,-498.3799C210.5,-490.1745 210.5,-480.7679 210.5,-471.8786\" fill=\"none\" stroke=\"#000000\"/>\n<polygon fill=\"#000000\" points=\"214.0001,-471.784 210.5,-461.784 207.0001,-471.784 214.0001,-471.784\" stroke=\"#000000\"/>\n</g>\n<!-- 140614564227152 -->\n<g class=\"node\" id=\"node8\">\n<title>140614564227152</title>\n<polygon fill=\"none\" points=\"65,-332.5 65,-378.5 356,-378.5 356,-332.5 65,-332.5\" stroke=\"#000000\"/>\n<text fill=\"#000000\" font-family=\"Times,serif\" font-size=\"14.00\" text-anchor=\"middle\" x=\"98.5\" y=\"-351.8\">flatten_8</text>\n<polyline fill=\"none\" points=\"132,-332.5 132,-378.5 \" stroke=\"#000000\"/>\n<text fill=\"#000000\" font-family=\"Times,serif\" font-size=\"14.00\" text-anchor=\"middle\" x=\"160\" y=\"-351.8\">Flatten</text>\n<polyline fill=\"none\" points=\"188,-332.5 188,-378.5 \" stroke=\"#000000\"/>\n<text fill=\"#000000\" font-family=\"Times,serif\" font-size=\"14.00\" text-anchor=\"middle\" x=\"217\" y=\"-363.3\">input:</text>\n<polyline fill=\"none\" points=\"188,-355.5 246,-355.5 \" stroke=\"#000000\"/>\n<text fill=\"#000000\" font-family=\"Times,serif\" font-size=\"14.00\" text-anchor=\"middle\" x=\"217\" y=\"-340.3\">output:</text>\n<polyline fill=\"none\" points=\"246,-332.5 246,-378.5 \" stroke=\"#000000\"/>\n<text fill=\"#000000\" font-family=\"Times,serif\" font-size=\"14.00\" text-anchor=\"middle\" x=\"301\" y=\"-363.3\">(None, 7, 7, 64)</text>\n<polyline fill=\"none\" points=\"246,-355.5 356,-355.5 \" stroke=\"#000000\"/>\n<text fill=\"#000000\" font-family=\"Times,serif\" font-size=\"14.00\" text-anchor=\"middle\" x=\"301\" y=\"-340.3\">(None, 3136)</text>\n</g>\n<!-- 140618772806224&#45;&gt;140614564227152 -->\n<g class=\"edge\" id=\"edge7\">\n<title>140618772806224-&gt;140614564227152</title>\n<path d=\"M210.5,-415.3799C210.5,-407.1745 210.5,-397.7679 210.5,-388.8786\" fill=\"none\" stroke=\"#000000\"/>\n<polygon fill=\"#000000\" points=\"214.0001,-388.784 210.5,-378.784 207.0001,-388.784 214.0001,-388.784\" stroke=\"#000000\"/>\n</g>\n<!-- 140618772806416 -->\n<g class=\"node\" id=\"node9\">\n<title>140618772806416</title>\n<polygon fill=\"none\" points=\"59,-249.5 59,-295.5 362,-295.5 362,-249.5 59,-249.5\" stroke=\"#000000\"/>\n<text fill=\"#000000\" font-family=\"Times,serif\" font-size=\"14.00\" text-anchor=\"middle\" x=\"101.5\" y=\"-268.8\">dropout_12</text>\n<polyline fill=\"none\" points=\"144,-249.5 144,-295.5 \" stroke=\"#000000\"/>\n<text fill=\"#000000\" font-family=\"Times,serif\" font-size=\"14.00\" text-anchor=\"middle\" x=\"176.5\" y=\"-268.8\">Dropout</text>\n<polyline fill=\"none\" points=\"209,-249.5 209,-295.5 \" stroke=\"#000000\"/>\n<text fill=\"#000000\" font-family=\"Times,serif\" font-size=\"14.00\" text-anchor=\"middle\" x=\"238\" y=\"-280.3\">input:</text>\n<polyline fill=\"none\" points=\"209,-272.5 267,-272.5 \" stroke=\"#000000\"/>\n<text fill=\"#000000\" font-family=\"Times,serif\" font-size=\"14.00\" text-anchor=\"middle\" x=\"238\" y=\"-257.3\">output:</text>\n<polyline fill=\"none\" points=\"267,-249.5 267,-295.5 \" stroke=\"#000000\"/>\n<text fill=\"#000000\" font-family=\"Times,serif\" font-size=\"14.00\" text-anchor=\"middle\" x=\"314.5\" y=\"-280.3\">(None, 3136)</text>\n<polyline fill=\"none\" points=\"267,-272.5 362,-272.5 \" stroke=\"#000000\"/>\n<text fill=\"#000000\" font-family=\"Times,serif\" font-size=\"14.00\" text-anchor=\"middle\" x=\"314.5\" y=\"-257.3\">(None, 3136)</text>\n</g>\n<!-- 140614564227152&#45;&gt;140618772806416 -->\n<g class=\"edge\" id=\"edge8\">\n<title>140614564227152-&gt;140618772806416</title>\n<path d=\"M210.5,-332.3799C210.5,-324.1745 210.5,-314.7679 210.5,-305.8786\" fill=\"none\" stroke=\"#000000\"/>\n<polygon fill=\"#000000\" points=\"214.0001,-305.784 210.5,-295.784 207.0001,-305.784 214.0001,-305.784\" stroke=\"#000000\"/>\n</g>\n<!-- 140618772407248 -->\n<g class=\"node\" id=\"node10\">\n<title>140618772407248</title>\n<polygon fill=\"none\" points=\"72.5,-166.5 72.5,-212.5 348.5,-212.5 348.5,-166.5 72.5,-166.5\" stroke=\"#000000\"/>\n<text fill=\"#000000\" font-family=\"Times,serif\" font-size=\"14.00\" text-anchor=\"middle\" x=\"108\" y=\"-185.8\">dense_21</text>\n<polyline fill=\"none\" points=\"143.5,-166.5 143.5,-212.5 \" stroke=\"#000000\"/>\n<text fill=\"#000000\" font-family=\"Times,serif\" font-size=\"14.00\" text-anchor=\"middle\" x=\"169.5\" y=\"-185.8\">Dense</text>\n<polyline fill=\"none\" points=\"195.5,-166.5 195.5,-212.5 \" stroke=\"#000000\"/>\n<text fill=\"#000000\" font-family=\"Times,serif\" font-size=\"14.00\" text-anchor=\"middle\" x=\"224.5\" y=\"-197.3\">input:</text>\n<polyline fill=\"none\" points=\"195.5,-189.5 253.5,-189.5 \" stroke=\"#000000\"/>\n<text fill=\"#000000\" font-family=\"Times,serif\" font-size=\"14.00\" text-anchor=\"middle\" x=\"224.5\" y=\"-174.3\">output:</text>\n<polyline fill=\"none\" points=\"253.5,-166.5 253.5,-212.5 \" stroke=\"#000000\"/>\n<text fill=\"#000000\" font-family=\"Times,serif\" font-size=\"14.00\" text-anchor=\"middle\" x=\"301\" y=\"-197.3\">(None, 3136)</text>\n<polyline fill=\"none\" points=\"253.5,-189.5 348.5,-189.5 \" stroke=\"#000000\"/>\n<text fill=\"#000000\" font-family=\"Times,serif\" font-size=\"14.00\" text-anchor=\"middle\" x=\"301\" y=\"-174.3\">(None, 32)</text>\n</g>\n<!-- 140618772806416&#45;&gt;140618772407248 -->\n<g class=\"edge\" id=\"edge9\">\n<title>140618772806416-&gt;140618772407248</title>\n<path d=\"M210.5,-249.3799C210.5,-241.1745 210.5,-231.7679 210.5,-222.8786\" fill=\"none\" stroke=\"#000000\"/>\n<polygon fill=\"#000000\" points=\"214.0001,-222.784 210.5,-212.784 207.0001,-222.784 214.0001,-222.784\" stroke=\"#000000\"/>\n</g>\n<!-- 140614541991504 -->\n<g class=\"node\" id=\"node11\">\n<title>140614541991504</title>\n<polygon fill=\"none\" points=\"66.5,-83.5 66.5,-129.5 354.5,-129.5 354.5,-83.5 66.5,-83.5\" stroke=\"#000000\"/>\n<text fill=\"#000000\" font-family=\"Times,serif\" font-size=\"14.00\" text-anchor=\"middle\" x=\"109\" y=\"-102.8\">dropout_13</text>\n<polyline fill=\"none\" points=\"151.5,-83.5 151.5,-129.5 \" stroke=\"#000000\"/>\n<text fill=\"#000000\" font-family=\"Times,serif\" font-size=\"14.00\" text-anchor=\"middle\" x=\"184\" y=\"-102.8\">Dropout</text>\n<polyline fill=\"none\" points=\"216.5,-83.5 216.5,-129.5 \" stroke=\"#000000\"/>\n<text fill=\"#000000\" font-family=\"Times,serif\" font-size=\"14.00\" text-anchor=\"middle\" x=\"245.5\" y=\"-114.3\">input:</text>\n<polyline fill=\"none\" points=\"216.5,-106.5 274.5,-106.5 \" stroke=\"#000000\"/>\n<text fill=\"#000000\" font-family=\"Times,serif\" font-size=\"14.00\" text-anchor=\"middle\" x=\"245.5\" y=\"-91.3\">output:</text>\n<polyline fill=\"none\" points=\"274.5,-83.5 274.5,-129.5 \" stroke=\"#000000\"/>\n<text fill=\"#000000\" font-family=\"Times,serif\" font-size=\"14.00\" text-anchor=\"middle\" x=\"314.5\" y=\"-114.3\">(None, 32)</text>\n<polyline fill=\"none\" points=\"274.5,-106.5 354.5,-106.5 \" stroke=\"#000000\"/>\n<text fill=\"#000000\" font-family=\"Times,serif\" font-size=\"14.00\" text-anchor=\"middle\" x=\"314.5\" y=\"-91.3\">(None, 32)</text>\n</g>\n<!-- 140618772407248&#45;&gt;140614541991504 -->\n<g class=\"edge\" id=\"edge10\">\n<title>140618772407248-&gt;140614541991504</title>\n<path d=\"M210.5,-166.3799C210.5,-158.1745 210.5,-148.7679 210.5,-139.8786\" fill=\"none\" stroke=\"#000000\"/>\n<polygon fill=\"#000000\" points=\"214.0001,-139.784 210.5,-129.784 207.0001,-139.784 214.0001,-139.784\" stroke=\"#000000\"/>\n</g>\n<!-- 140614564308368 -->\n<g class=\"node\" id=\"node12\">\n<title>140614564308368</title>\n<polygon fill=\"none\" points=\"80,-.5 80,-46.5 341,-46.5 341,-.5 80,-.5\" stroke=\"#000000\"/>\n<text fill=\"#000000\" font-family=\"Times,serif\" font-size=\"14.00\" text-anchor=\"middle\" x=\"115.5\" y=\"-19.8\">dense_22</text>\n<polyline fill=\"none\" points=\"151,-.5 151,-46.5 \" stroke=\"#000000\"/>\n<text fill=\"#000000\" font-family=\"Times,serif\" font-size=\"14.00\" text-anchor=\"middle\" x=\"177\" y=\"-19.8\">Dense</text>\n<polyline fill=\"none\" points=\"203,-.5 203,-46.5 \" stroke=\"#000000\"/>\n<text fill=\"#000000\" font-family=\"Times,serif\" font-size=\"14.00\" text-anchor=\"middle\" x=\"232\" y=\"-31.3\">input:</text>\n<polyline fill=\"none\" points=\"203,-23.5 261,-23.5 \" stroke=\"#000000\"/>\n<text fill=\"#000000\" font-family=\"Times,serif\" font-size=\"14.00\" text-anchor=\"middle\" x=\"232\" y=\"-8.3\">output:</text>\n<polyline fill=\"none\" points=\"261,-.5 261,-46.5 \" stroke=\"#000000\"/>\n<text fill=\"#000000\" font-family=\"Times,serif\" font-size=\"14.00\" text-anchor=\"middle\" x=\"301\" y=\"-31.3\">(None, 32)</text>\n<polyline fill=\"none\" points=\"261,-23.5 341,-23.5 \" stroke=\"#000000\"/>\n<text fill=\"#000000\" font-family=\"Times,serif\" font-size=\"14.00\" text-anchor=\"middle\" x=\"301\" y=\"-8.3\">(None, 6)</text>\n</g>\n<!-- 140614541991504&#45;&gt;140614564308368 -->\n<g class=\"edge\" id=\"edge11\">\n<title>140614541991504-&gt;140614564308368</title>\n<path d=\"M210.5,-83.3799C210.5,-75.1745 210.5,-65.7679 210.5,-56.8786\" fill=\"none\" stroke=\"#000000\"/>\n<polygon fill=\"#000000\" points=\"214.0001,-56.784 210.5,-46.784 207.0001,-56.784 214.0001,-56.784\" stroke=\"#000000\"/>\n</g>\n</g>\n</svg>"
          },
          "metadata": {}
        }
      ]
    },
    {
      "cell_type": "code",
      "metadata": {
        "id": "87vJUmwv5XXg"
      },
      "source": [
        "def preprocess_input(x):\n",
        "    return x/255"
      ],
      "execution_count": 122,
      "outputs": []
    },
    {
      "cell_type": "code",
      "metadata": {
        "id": "WD-qj3yoyJDB"
      },
      "source": [
        "train_datagen = ImageDataGenerator(\n",
        "    dtype='float32',\n",
        "    preprocessing_function = preprocess_input,\n",
        "    rotation_range=40,\n",
        "    width_shift_range=0.2,\n",
        "    height_shift_range=0.2,\n",
        "    fill_mode='nearest',\n",
        "    shear_range=0.2,\n",
        "    zoom_range=0.2,\n",
        "    horizontal_flip=True)\n",
        "\n",
        "val_datagen  = ImageDataGenerator(dtype='float32',\n",
        "                                  preprocessing_function = preprocess_input)\n",
        "\n",
        "test_datagen = ImageDataGenerator(dtype='float32',\n",
        "                                  preprocessing_function = preprocess_input)"
      ],
      "execution_count": 123,
      "outputs": []
    },
    {
      "cell_type": "code",
      "metadata": {
        "id": "As30eiA_awL-",
        "colab": {
          "base_uri": "https://localhost:8080/"
        },
        "outputId": "3d2c52ee-363a-46c5-812f-59ac11b7b552"
      },
      "source": [
        "validation_data_dir, normed_dims"
      ],
      "execution_count": 124,
      "outputs": [
        {
          "output_type": "execute_result",
          "data": {
            "text/plain": [
              "('seg_test', (75, 75))"
            ]
          },
          "metadata": {},
          "execution_count": 124
        }
      ]
    },
    {
      "cell_type": "code",
      "metadata": {
        "id": "ZlmhVC-bYM_1",
        "colab": {
          "base_uri": "https://localhost:8080/"
        },
        "outputId": "b3344478-5f1f-429f-95b3-9138fe744df3"
      },
      "source": [
        "train_generator = train_datagen.flow_from_directory(\n",
        "    train_data_dir,\n",
        "    target_size=normed_dims,\n",
        "    batch_size=batch_size,\n",
        "    shuffle=True,\n",
        "    class_mode='sparse')\n",
        "\n",
        "validation_generator = val_datagen.flow_from_directory(\n",
        "    validation_data_dir,\n",
        "    target_size=normed_dims,\n",
        "    batch_size=batch_size,\n",
        "    shuffle=False,\n",
        "    class_mode='sparse')\n",
        "\n",
        "test_generator = test_datagen.flow_from_directory(\n",
        "    test_data_dir,\n",
        "    target_size=normed_dims,\n",
        "    batch_size=batch_size,\n",
        "    shuffle=False,\n",
        "    class_mode='sparse')"
      ],
      "execution_count": 125,
      "outputs": [
        {
          "output_type": "stream",
          "name": "stdout",
          "text": [
            "Found 14034 images belonging to 6 classes.\n",
            "Found 3000 images belonging to 6 classes.\n",
            "Found 3000 images belonging to 6 classes.\n"
          ]
        }
      ]
    },
    {
      "cell_type": "code",
      "metadata": {
        "id": "o8xyhhotNeON",
        "colab": {
          "base_uri": "https://localhost:8080/"
        },
        "outputId": "cb46fda9-f945-4fc5-8ebf-49dba21f6516"
      },
      "source": [
        "test_datagen.flow_from_dataframe"
      ],
      "execution_count": 126,
      "outputs": [
        {
          "output_type": "execute_result",
          "data": {
            "text/plain": [
              "<bound method ImageDataGenerator.flow_from_dataframe of <keras.preprocessing.image.ImageDataGenerator object at 0x7fe35fcbf310>>"
            ]
          },
          "metadata": {},
          "execution_count": 126
        }
      ]
    },
    {
      "cell_type": "code",
      "metadata": {
        "id": "u96-8fMjbIcx",
        "colab": {
          "base_uri": "https://localhost:8080/"
        },
        "outputId": "b8eef770-ef00-4ed9-84a9-78f3e243bbd5"
      },
      "source": [
        "train_generator.class_indices"
      ],
      "execution_count": 127,
      "outputs": [
        {
          "output_type": "execute_result",
          "data": {
            "text/plain": [
              "{'buildings': 0,\n",
              " 'forest': 1,\n",
              " 'glacier': 2,\n",
              " 'mountain': 3,\n",
              " 'sea': 4,\n",
              " 'street': 5}"
            ]
          },
          "metadata": {},
          "execution_count": 127
        }
      ]
    },
    {
      "cell_type": "code",
      "metadata": {
        "id": "smKSN-oycTL6",
        "colab": {
          "base_uri": "https://localhost:8080/"
        },
        "outputId": "b18b2990-3a7f-4402-e516-76f54655a3a9"
      },
      "source": [
        "number_train_samples = train_generator.n\n",
        "number_val_samples   = validation_generator.n\n",
        "number_test_samples  = test_generator.n\n",
        "\n",
        "number_train_samples, number_val_samples, number_test_samples"
      ],
      "execution_count": 128,
      "outputs": [
        {
          "output_type": "execute_result",
          "data": {
            "text/plain": [
              "(14034, 3000, 3000)"
            ]
          },
          "metadata": {},
          "execution_count": 128
        }
      ]
    },
    {
      "cell_type": "code",
      "metadata": {
        "id": "WDSlstsKWa3i"
      },
      "source": [
        "from matplotlib.ticker import MaxNLocator\n",
        "\n",
        "def grafica_entrenamiento(tr_acc, val_acc, tr_loss, val_loss, best_i,\n",
        "                          figsize=(10,4)):\n",
        "    plt.figure(figsize=figsize)\n",
        "    ax = plt.subplot(1,2,1)\n",
        "    plt.plot(1+np.arange(len(tr_acc)),  100*np.array(tr_acc))\n",
        "    plt.plot(1+np.arange(len(val_acc)), 100*np.array(val_acc))\n",
        "    plt.plot(1+best_i, 100*val_acc[best_i], 'or')\n",
        "    plt.title('tasa de acierto del modelo (%)', fontsize=18)\n",
        "    plt.ylabel('tasa de acierto (%)', fontsize=18)\n",
        "    plt.xlabel('época', fontsize=18)\n",
        "    plt.legend(['entrenamiento', 'validación'], loc='upper left')\n",
        "    ax.xaxis.set_major_locator(MaxNLocator(integer=True))\n",
        "\n",
        "    plt.subplot(1,2,2)\n",
        "    plt.plot(1+np.arange(len(tr_acc)), np.array(tr_loss))\n",
        "    plt.plot(1+np.arange(len(val_acc)), np.array(val_loss))\n",
        "    plt.plot(1+best_i, val_loss[best_i], 'or')\n",
        "    plt.title('loss del modelo', fontsize=18)\n",
        "    plt.ylabel('loss', fontsize=18)\n",
        "    plt.xlabel('época', fontsize=18)\n",
        "    plt.legend(['entrenamiento', 'validación'], loc='upper left')\n",
        "    ax.xaxis.set_major_locator(MaxNLocator(integer=True))\n",
        "    plt.show()"
      ],
      "execution_count": 129,
      "outputs": []
    },
    {
      "cell_type": "code",
      "metadata": {
        "id": "PvUaztU0Wa3l"
      },
      "source": [
        "acum_tr_acc = []\n",
        "acum_val_acc = []\n",
        "best_val_acc = -1000\n",
        "acum_tr_loss  = []\n",
        "acum_val_loss = []"
      ],
      "execution_count": 130,
      "outputs": []
    },
    {
      "cell_type": "code",
      "metadata": {
        "id": "Nqta4BkIWa3n",
        "colab": {
          "base_uri": "https://localhost:8080/",
          "height": 563
        },
        "outputId": "c41fdc58-f703-495f-ea7a-61ecd3c15910"
      },
      "source": [
        "epochs = 50\n",
        "\n",
        "modelpath=\"best_model.h5\"\n",
        "\n",
        "checkpoint = ModelCheckpoint(modelpath, monitor='val_accuracy', verbose=1,\n",
        "                              save_best_only=True,\n",
        "                              mode='max') # graba sólo los que mejoran en validación\n",
        "callbacks_list = [checkpoint]\n",
        "for e in range(epochs):\n",
        "    history = model.fit_generator(generator = train_generator, \n",
        "                                  steps_per_epoch=number_train_samples // batch_size,\n",
        "                                  epochs=1,\n",
        "                                  callbacks=callbacks_list,\n",
        "                                  verbose=1,\n",
        "                                  shuffle = True,\n",
        "                                  validation_data=validation_generator,\n",
        "                                  validation_steps=number_val_samples // batch_size\n",
        "                                  )\n",
        "    \n",
        "    if history.history['val_accuracy'][-1] > best_val_acc:\n",
        "        print(\"Validation accuracy improved from\",\n",
        "            best_val_acc, 'to', history.history['val_accuracy'])\n",
        "        print(\"saving weights\")\n",
        "        best_val_acc = history.history['val_accuracy'][-1]\n",
        "    \n",
        "    acum_tr_acc.append(history.history['accuracy'][0])\n",
        "    acum_val_acc.append(history.history['val_accuracy'][0])\n",
        "    acum_tr_loss.append(history.history['loss'][0])\n",
        "    acum_val_loss.append(history.history['val_loss'][0])\n",
        "    \n",
        "    if len(acum_tr_acc) > 1:\n",
        "        clear_output()\n",
        "        best_i = np.argmax(acum_val_acc)\n",
        "        grafica_entrenamiento(acum_tr_acc, acum_val_acc, acum_tr_loss, acum_val_loss, best_i)"
      ],
      "execution_count": null,
      "outputs": [
        {
          "output_type": "error",
          "ename": "KeyboardInterrupt",
          "evalue": "ignored",
          "traceback": [
            "\u001b[0;31m---------------------------------------------------------------------------\u001b[0m",
            "\u001b[0;31mKeyboardInterrupt\u001b[0m                         Traceback (most recent call last)",
            "\u001b[0;32m/usr/local/lib/python3.7/dist-packages/zmq/backend/cython/checkrc.pxd\u001b[0m in \u001b[0;36mzmq.backend.cython.checkrc._check_rc\u001b[0;34m()\u001b[0m\n",
            "\u001b[0;31mKeyboardInterrupt\u001b[0m: "
          ]
        },
        {
          "output_type": "stream",
          "name": "stderr",
          "text": [
            "Exception ignored in: 'zmq.backend.cython.message.Frame.__dealloc__'\n",
            "Traceback (most recent call last):\n",
            "  File \"zmq/backend/cython/checkrc.pxd\", line 13, in zmq.backend.cython.checkrc._check_rc\n",
            "KeyboardInterrupt\n"
          ]
        },
        {
          "output_type": "display_data",
          "data": {
            "image/png": "[encoded data removed]",
            "text/plain": [
              "<Figure size 720x288 with 2 Axes>"
            ]
          },
          "metadata": {
            "needs_background": "light"
          }
        },
        {
          "output_type": "stream",
          "name": "stdout",
          "text": [
            "\r  1/877 [..............................] - ETA: 53s - loss: 1.6512 - accuracy: 0.3750"
          ]
        },
        {
          "output_type": "stream",
          "name": "stderr",
          "text": [
            "/usr/local/lib/python3.7/dist-packages/ipykernel_launcher.py:17: UserWarning: `Model.fit_generator` is deprecated and will be removed in a future version. Please use `Model.fit`, which supports generators.\n"
          ]
        },
        {
          "output_type": "stream",
          "name": "stdout",
          "text": [
            "675/877 [======================>.......] - ETA: 9s - loss: 1.2806 - accuracy: 0.5167 "
          ]
        }
      ]
    },
    {
      "cell_type": "code",
      "metadata": {
        "id": "CqZiUFDMzUut"
      },
      "source": [
        "!ls -la"
      ],
      "execution_count": null,
      "outputs": []
    },
    {
      "cell_type": "code",
      "metadata": {
        "id": "PYGAMNyndDoM"
      },
      "source": [
        "model = load_model(modelpath)"
      ],
      "execution_count": null,
      "outputs": []
    },
    {
      "cell_type": "markdown",
      "metadata": {
        "id": "hNI07vcLWa3q"
      },
      "source": [
        "## **Resultados obtenidos**"
      ]
    },
    {
      "cell_type": "code",
      "metadata": {
        "id": "B-g2AYJqWa3t"
      },
      "source": [
        "scores_tr = model.evaluate(train_generator)\n",
        "print('Train loss    :', scores_tr[0])\n",
        "print('Train accuracy:', scores_tr[1])\n",
        "print()\n",
        "\n",
        "scores_val = model.evaluate(validation_generator)\n",
        "print('Val loss    :', scores_val[0])\n",
        "print('Val accuracy:', scores_val[1])\n",
        "print()\n",
        "\n",
        "scores_te = model.evaluate(test_generator)\n",
        "print('Test loss     :', scores_te[0])\n",
        "print('Test accuracy :', scores_te[1])"
      ],
      "execution_count": null,
      "outputs": []
    },
    {
      "cell_type": "code",
      "metadata": {
        "id": "maD61ufgWa3w"
      },
      "source": [
        "y_real = test_generator.classes\n",
        "y_pred_proba = model.predict_generator(test_generator)"
      ],
      "execution_count": null,
      "outputs": []
    },
    {
      "cell_type": "code",
      "metadata": {
        "id": "GsQqq2ewvuyN"
      },
      "source": [
        "y_real[:5]"
      ],
      "execution_count": null,
      "outputs": []
    },
    {
      "cell_type": "code",
      "metadata": {
        "id": "u3x0PZ_OvwzJ"
      },
      "source": [
        "y_pred_proba[:5]"
      ],
      "execution_count": null,
      "outputs": []
    },
    {
      "cell_type": "code",
      "metadata": {
        "id": "IUy_VwwNvieF"
      },
      "source": [
        "test_generator.class_indices"
      ],
      "execution_count": null,
      "outputs": []
    },
    {
      "cell_type": "code",
      "metadata": {
        "id": "U3ynd71Lv3QX"
      },
      "source": [
        "num2class = {test_generator.class_indices[x]:x  for x in test_generator.class_indices.keys()}\n",
        "num2class"
      ],
      "execution_count": null,
      "outputs": []
    },
    {
      "cell_type": "code",
      "metadata": {
        "id": "x28VTWUvWa3y"
      },
      "source": [
        "for clase in range(6):\n",
        "    nombre_clase = num2class[clase]\n",
        "\n",
        "    fpr, tpr, thresholds = roc_curve(y_real==clase, y_pred_proba[:,clase])\n",
        "    fig, ax1 = plt.subplots(1,1)\n",
        "    ax1.plot(fpr, tpr, 'r-.', label = 'CNN (%2.2f)' % auc(fpr, tpr))\n",
        "    ax1.set_xlabel('False Positive Rate')\n",
        "    ax1.set_ylabel('True Positive Rate')\n",
        "    ax1.plot(fpr, fpr, 'b-', label = 'Random Guess')\n",
        "    ax1.set_title(nombre_clase)\n",
        "    ax1.legend()\n",
        "    plt.show()"
      ],
      "execution_count": null,
      "outputs": []
    },
    {
      "cell_type": "markdown",
      "metadata": {
        "id": "ASQl208vrWGX"
      },
      "source": [
        "## **Visualización de ejemplos de test**"
      ]
    },
    {
      "cell_type": "code",
      "metadata": {
        "id": "Zt9vxEizseSE"
      },
      "source": [
        "test_datagen2 = ImageDataGenerator(dtype='float32')\n",
        "\n",
        "test_generator2 = test_datagen2.flow_from_directory(\n",
        "    test_data_dir,\n",
        "    target_size=normed_dims,\n",
        "    batch_size=test_generator.n,\n",
        "    shuffle=False,\n",
        "    class_mode='sparse')"
      ],
      "execution_count": null,
      "outputs": []
    },
    {
      "cell_type": "code",
      "metadata": {
        "id": "Dq_wZK3DseUW"
      },
      "source": [
        "test_generator2.reset()\n",
        "X_te, y_te = test_generator2.next()"
      ],
      "execution_count": null,
      "outputs": []
    },
    {
      "cell_type": "code",
      "metadata": {
        "id": "HeQRqjEUucGM"
      },
      "source": [
        "test_generator2.class_indices"
      ],
      "execution_count": null,
      "outputs": []
    },
    {
      "cell_type": "code",
      "metadata": {
        "id": "5sPfpH_ytQkK"
      },
      "source": [
        "y_te"
      ],
      "execution_count": null,
      "outputs": []
    },
    {
      "cell_type": "code",
      "metadata": {
        "id": "62rtQ4ERrric"
      },
      "source": [
        "ind_te1 = 145\n",
        "\n",
        "image = X_te[ind_te1].copy()\n",
        "\n",
        "print(\"Clase real:\", num2class[y_te[ind_te1]])\n",
        "plt.imshow(image/255, cmap='jet')\n",
        "plt.axis(\"off\")\n",
        "p = model.predict(preprocess_input(np.array([image])))[0]\n",
        "cadena = \"\"\n",
        "for i in range(len(num2class)):\n",
        "    cadena = cadena + \"{}: {}% \".format(num2class[i], int(100*p[i]))\n",
        "print(cadena)"
      ],
      "execution_count": null,
      "outputs": []
    },
    {
      "cell_type": "code",
      "metadata": {
        "id": "FD-AVoQZ7g5Q"
      },
      "source": [
        "!ls"
      ],
      "execution_count": null,
      "outputs": []
    },
    {
      "cell_type": "code",
      "metadata": {
        "id": "VP5G-sGWx4qT"
      },
      "source": [
        "# Para descargar el modelo a local:\n",
        "\n",
        "#from google.colab import files\n",
        "#files.download('./best_model.h5')"
      ],
      "execution_count": null,
      "outputs": []
    },
    {
      "cell_type": "code",
      "metadata": {
        "id": "WQoyV4pvA-Zf"
      },
      "source": [
        ""
      ],
      "execution_count": null,
      "outputs": []
    }
  ]
}