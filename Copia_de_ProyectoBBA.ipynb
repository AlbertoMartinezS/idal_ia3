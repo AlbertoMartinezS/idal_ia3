{
  "nbformat": 4,
  "nbformat_minor": 0,
  "metadata": {
    "colab": {
      "name": "Copia de ProyectoBBA.ipynb",
      "provenance": [],
      "authorship_tag": "ABX9TyMFNSuxUUV16CJOpQCYEf/7",
      "include_colab_link": true
    },
    "kernelspec": {
      "name": "python3",
      "display_name": "Python 3"
    },
    "language_info": {
      "name": "python"
    }
  },
  "cells": [
    {
      "cell_type": "markdown",
      "metadata": {
        "id": "view-in-github",
        "colab_type": "text"
      },
      "source": [
        "<a href=\"https://colab.research.google.com/github/AlbertoMartinezS/idal_ia3/blob/main/Copia_de_ProyectoBBA.ipynb\" target=\"_parent\"><img src=\"https://colab.research.google.com/assets/colab-badge.svg\" alt=\"Open In Colab\"/></a>"
      ]
    },
    {
      "cell_type": "code",
      "source": [
        "COLAB = True"
      ],
      "metadata": {
        "id": "3ocB4ohZv08b"
      },
      "execution_count": null,
      "outputs": []
    },
    {
      "cell_type": "code",
      "source": [
        "if COLAB:\n",
        "    #%tensorflow_version 1.x\n",
        "    !pip install h5py==2.10.0"
      ],
      "metadata": {
        "colab": {
          "base_uri": "https://localhost:8080/"
        },
        "id": "fPcK3lfiv9RE",
        "outputId": "8b78d099-44b5-4768-8f71-c8e58fd52e0c"
      },
      "execution_count": null,
      "outputs": [
        {
          "output_type": "stream",
          "name": "stdout",
          "text": [
            "Collecting h5py==2.10.0\n",
            "  Downloading h5py-2.10.0-cp37-cp37m-manylinux1_x86_64.whl (2.9 MB)\n",
            "\u001b[K     |████████████████████████████████| 2.9 MB 12.8 MB/s \n",
            "\u001b[?25hRequirement already satisfied: six in /usr/local/lib/python3.7/dist-packages (from h5py==2.10.0) (1.15.0)\n",
            "Requirement already satisfied: numpy>=1.7 in /usr/local/lib/python3.7/dist-packages (from h5py==2.10.0) (1.19.5)\n",
            "Installing collected packages: h5py\n",
            "  Attempting uninstall: h5py\n",
            "    Found existing installation: h5py 3.1.0\n",
            "    Uninstalling h5py-3.1.0:\n",
            "      Successfully uninstalled h5py-3.1.0\n",
            "Successfully installed h5py-2.10.0\n"
          ]
        }
      ]
    },
    {
      "cell_type": "code",
      "source": [
        "from keras.models import Sequential, load_model, Model\n",
        "from keras.layers import (Dense, Dropout, Flatten, Conv2D, MaxPooling2D, Activation,\n",
        "                          BatchNormalization, GlobalAveragePooling2D)\n",
        "from keras import backend as K\n",
        "from keras import regularizers\n",
        "from keras import optimizers\n",
        "from keras.callbacks import ModelCheckpoint\n",
        "\n",
        "from IPython.display import SVG, clear_output\n",
        "from keras.utils.vis_utils import model_to_dot\n",
        "\n",
        "from keras.preprocessing.image import ImageDataGenerator, load_img, img_to_array\n",
        "from sklearn.metrics import classification_report, roc_curve, auc\n",
        "\n",
        "import matplotlib.pyplot as plt\n",
        "import numpy as np\n",
        "import pandas as pd\n",
        "from glob import glob\n",
        "\n",
        "%matplotlib inline"
      ],
      "metadata": {
        "id": "mOOut-ofv02b"
      },
      "execution_count": null,
      "outputs": []
    },
    {
      "cell_type": "code",
      "source": [
        "if COLAB:\n",
        "    from google_drive_downloader import GoogleDriveDownloader as gdd\n",
        "    gdd.download_file_from_google_drive(file_id='1CwEH63W3VtCYbkurBhg9TUqdotTmP4UD',\n",
        "                                        dest_path='./train.zip', unzip=True)\n",
        "    gdd.download_file_from_google_drive(file_id='1lUwj3LhiU1mOTb0ic-UjZMcR65KusovF',\n",
        "                                        dest_path='./test.zip', unzip=True)\n",
        "    \n"
      ],
      "metadata": {
        "colab": {
          "base_uri": "https://localhost:8080/"
        },
        "id": "7WRDt6GEv0vF",
        "outputId": "4249f62c-3933-4e7d-a2b5-ef98b3d5cdf2"
      },
      "execution_count": null,
      "outputs": [
        {
          "output_type": "stream",
          "name": "stdout",
          "text": [
            "Downloading 1CwEH63W3VtCYbkurBhg9TUqdotTmP4UD into ./train.zip... Done.\n",
            "Unzipping...Downloading 1lUwj3LhiU1mOTb0ic-UjZMcR65KusovF into ./test.zip... "
          ]
        },
        {
          "output_type": "stream",
          "name": "stderr",
          "text": [
            "/usr/local/lib/python3.7/dist-packages/google_drive_downloader/google_drive_downloader.py:78: UserWarning: Ignoring `unzip` since \"1CwEH63W3VtCYbkurBhg9TUqdotTmP4UD\" does not look like a valid zip file\n",
            "  warnings.warn('Ignoring `unzip` since \"{}\" does not look like a valid zip file'.format(file_id))\n"
          ]
        },
        {
          "output_type": "stream",
          "name": "stdout",
          "text": [
            "Done.\n",
            "Unzipping..."
          ]
        },
        {
          "output_type": "stream",
          "name": "stderr",
          "text": [
            "/usr/local/lib/python3.7/dist-packages/google_drive_downloader/google_drive_downloader.py:78: UserWarning: Ignoring `unzip` since \"1lUwj3LhiU1mOTb0ic-UjZMcR65KusovF\" does not look like a valid zip file\n",
            "  warnings.warn('Ignoring `unzip` since \"{}\" does not look like a valid zip file'.format(file_id))\n"
          ]
        }
      ]
    },
    {
      "cell_type": "code",
      "execution_count": null,
      "metadata": {
        "id": "0XZVJl1f3w1S"
      },
      "outputs": [],
      "source": [
        ""
      ]
    }
  ]
}